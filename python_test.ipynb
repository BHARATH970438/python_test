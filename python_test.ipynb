{
 "cells": [
  {
   "cell_type": "markdown",
   "metadata": {},
   "source": [
    "Q1. Write a Python program that defines a function called \"add_numbers\" that takes two\n",
    "arguments (i.e.,\n",
    "numbers) and returns their sum. Within the function, add the two numbers together and return\n",
    "the result\n",
    "using the return statement. Call the function with the values 5 and 6, and print out the returned\n",
    "result.\n",
    "This will result in the addition of 5 and 6, with the output of the program being the sum of these\n",
    "two\n",
    "numbers."
   ]
  },
  {
   "cell_type": "code",
   "execution_count": 2,
   "metadata": {},
   "outputs": [
    {
     "name": "stdout",
     "output_type": "stream",
     "text": [
      "sum of two num : 11\n"
     ]
    }
   ],
   "source": [
    "def add_numbers(num1,num2):\n",
    "\n",
    "    sum = num1 + num2\n",
    "    return f\"sum of two num : {sum}\"\n",
    "\n",
    "num1 = 5 \n",
    "num2 = 6\n",
    "\n",
    "print(add_numbers(num1, num2))"
   ]
  },
  {
   "cell_type": "markdown",
   "metadata": {},
   "source": [
    "Q2. Write a Python program that calculates the square root of a given number using a built-in\n",
    "function.\n",
    "Specifically, the program should take an integer or float input from the user, calculate its square\n",
    "root\n",
    "using the 'sqrt()' function from the 'math' module, and print out the result to the user. As an\n",
    "example,\n",
    "calculate the square root of the number 625 using this program, which should output the value\n",
    "of 25."
   ]
  },
  {
   "cell_type": "code",
   "execution_count": 3,
   "metadata": {},
   "outputs": [
    {
     "name": "stdout",
     "output_type": "stream",
     "text": [
      "sqrt of num 625 is 25.0\n"
     ]
    }
   ],
   "source": [
    "import math \n",
    "\n",
    "num = 625\n",
    "\n",
    "sqrt_of_num = math.sqrt( num )\n",
    "\n",
    "print(f\"sqrt of num {num} is {sqrt_of_num}\")"
   ]
  },
  {
   "cell_type": "markdown",
   "metadata": {},
   "source": [
    "Q3.Write a program that prints all prime numbers between 0 to 50."
   ]
  },
  {
   "cell_type": "code",
   "execution_count": 16,
   "metadata": {},
   "outputs": [
    {
     "name": "stdout",
     "output_type": "stream",
     "text": [
      "Prime numbers between 0 and 50 are: 2 3 5 7 11 13 17 19 23 29 31 37 41 43 47 "
     ]
    }
   ],
   "source": [
    "def is_prime(n):\n",
    "    if n <= 1:\n",
    "        return False\n",
    "    for i in range(2, int(n**0.5) + 1):\n",
    "        if n % i == 0:\n",
    "            return False\n",
    "    return True\n",
    "\n",
    "\n",
    "def print_prime_numbers(start, end):\n",
    "\n",
    "    print(\"Prime numbers between\", start, \"and\", end, \"are: \",end='')\n",
    "\n",
    "    for num in range(start, end + 1):\n",
    "        if is_prime(num):\n",
    "            print(num,end=' ')\n",
    "\n",
    "print_prime_numbers(0, 50)\n"
   ]
  },
  {
   "cell_type": "markdown",
   "metadata": {},
   "source": [
    "Q4.How can we swap the values of three variables (let's say a, b, and c) without using a fourth\n",
    "variable?\n",
    "For example, if we have a=5, b=8, and c=9, how can we obtain a=9, b=5, and c=8? The\n",
    "challenge is to\n",
    "perform this operation without using an additional variable to store any of the values during the\n",
    "swapping process."
   ]
  },
  {
   "cell_type": "code",
   "execution_count": 4,
   "metadata": {},
   "outputs": [
    {
     "name": "stdout",
     "output_type": "stream",
     "text": [
      "9 5 8\n"
     ]
    }
   ],
   "source": [
    "a, b, c, = 5, 8, 9\n",
    "\n",
    "a, b, c, = c, a, b\n",
    "\n",
    "print(a,b,c)"
   ]
  },
  {
   "cell_type": "markdown",
   "metadata": {},
   "source": [
    "Q5. Can you write a program that determines the nature of a given number (in this case, 87) as\n",
    "being\n",
    "positive, negative, or zero? The program should be designed to take the number as input and\n",
    "perform the\n",
    "necessary calculations to determine if the number is positive (i.e., greater than zero), negative\n",
    "(i.e., less\n",
    "than zero), or zero (i.e., equal to zero). The output of the program should indicate which of these\n",
    "three\n",
    "categories the given number falls into."
   ]
  },
  {
   "cell_type": "code",
   "execution_count": 9,
   "metadata": {},
   "outputs": [
    {
     "name": "stdout",
     "output_type": "stream",
     "text": [
      "-8 is  negitive number\n"
     ]
    }
   ],
   "source": [
    "def nature_of_num(num):\n",
    "    if  int(num) > 0 :\n",
    "        return \"Positive number\"\n",
    "    \n",
    "    elif int(num) < 0 :\n",
    "        return \"negitive number\"\n",
    "    \n",
    "    else:\n",
    "        return \"zero\"\n",
    "    \n",
    "num = input(\"num : \")\n",
    "\n",
    "print(f\"{num} is \",nature_of_num(num))\n"
   ]
  },
  {
   "cell_type": "markdown",
   "metadata": {},
   "source": [
    "Q6. How can you create a program that determines whether a given number (in this case, 98) is\n",
    "even or\n",
    "odd? The program should be designed to take the number as input and perform the necessary\n",
    "calculations to determine whether it is divisible by two. If the number is divisible by two without\n",
    "leaving a\n",
    "remainder, it is an even number, and if there is a remainder, it is an odd number. The output of\n",
    "the\n",
    "program should indicate whether the given number is even or odd."
   ]
  },
  {
   "cell_type": "code",
   "execution_count": 10,
   "metadata": {},
   "outputs": [
    {
     "name": "stdout",
     "output_type": "stream",
     "text": [
      "55 is odd number\n"
     ]
    }
   ],
   "source": [
    "def even_odd(num):\n",
    "\n",
    "    if num % 3 == 0 :\n",
    "        return f\"{num} is even number\"\n",
    "    \n",
    "    else:\n",
    "        return f\"{num} is odd number\"\n",
    "    \n",
    "num = int(input(\"num : \"))\n",
    "\n",
    "print(even_odd(num))"
   ]
  },
  {
   "cell_type": "markdown",
   "metadata": {},
   "source": [
    "Q7.Write a program for sum of digits.The digits are 76543 and the output should be 25."
   ]
  },
  {
   "cell_type": "code",
   "execution_count": 15,
   "metadata": {},
   "outputs": [
    {
     "name": "stdout",
     "output_type": "stream",
     "text": [
      "sum of numbers 25\n"
     ]
    }
   ],
   "source": [
    "def digits_sum(num):\n",
    "\n",
    "    sum = 0\n",
    "    \n",
    "    for digit in num :\n",
    "        sum += int(digit)\n",
    "\n",
    "    return f\"sum of numbers {sum}\"\n",
    "\n",
    "num = input(\"Enter digits : \")\n",
    "\n",
    "print(digits_sum(num))\n"
   ]
  },
  {
   "cell_type": "markdown",
   "metadata": {},
   "source": [
    "Q8.Write a program for reversing the given number 5436 and the output should be 6345."
   ]
  },
  {
   "cell_type": "code",
   "execution_count": 18,
   "metadata": {},
   "outputs": [
    {
     "name": "stdout",
     "output_type": "stream",
     "text": [
      "Reverse of 5436 is 6345\n"
     ]
    }
   ],
   "source": [
    "def reverse(num):\n",
    "\n",
    "    reversed_num = num[::-1]\n",
    "\n",
    "    return f\"Reverse of {num} is {reversed_num}\"\n",
    "\n",
    "num = input(\"Enter num : \")\n",
    "\n",
    "print(reverse(num))"
   ]
  },
  {
   "cell_type": "markdown",
   "metadata": {},
   "source": [
    "Q9.Write a program to check if a given number 371 is an Armstrong number?"
   ]
  },
  {
   "cell_type": "code",
   "execution_count": 19,
   "metadata": {},
   "outputs": [
    {
     "name": "stdout",
     "output_type": "stream",
     "text": [
      "Yes, 371 is armstrong number\n"
     ]
    }
   ],
   "source": [
    "def armstrong_num(num):\n",
    "\n",
    "    ans = 0\n",
    "\n",
    "    y = len(num)\n",
    "\n",
    "    for i in num :\n",
    "        x = int(i)\n",
    "        ans += pow(x,y)\n",
    "\n",
    "    if ans == int(num) :\n",
    "        return f\"Yes, {ans} is armstrong number\"\n",
    "    \n",
    "    else:\n",
    "        return f\"No, {ans} is not armstrong number\"\n",
    "    \n",
    "\n",
    "num = input(\"Enter the num : \")\n",
    "\n",
    "print(armstrong_num(num))"
   ]
  },
  {
   "cell_type": "markdown",
   "metadata": {},
   "source": [
    "Q10.Write a program the given year is 1996, a leap year."
   ]
  },
  {
   "cell_type": "code",
   "execution_count": 30,
   "metadata": {},
   "outputs": [
    {
     "name": "stdout",
     "output_type": "stream",
     "text": [
      "1996 is a leap year\n"
     ]
    }
   ],
   "source": [
    "def leap_year(year):\n",
    "\n",
    "    if year / 100 == 0 and (year / 100) / 4 == 0 :\n",
    "        return f\"{year} is a leap year\"\n",
    "    \n",
    "    elif year % 4 == 0 and year % 100 != 0:\n",
    "        return f\"{year} is a leap year\"\n",
    "    \n",
    "    else:\n",
    "        return f\"{year} is not a leap year\"\n",
    "    \n",
    "year = int(input(\"Enter a Year : \"))\n",
    "\n",
    "print(leap_year(year))\n",
    "    "
   ]
  },
  {
   "cell_type": "markdown",
   "metadata": {},
   "source": [
    "Q11. Create a list in python using the followings: 2,3,4,5,6,7 with variable ‘a’.\n",
    "- Add ‘mango to the above list\n",
    "- Also add banana, grapes & orange in the list\n",
    "- insert apple in the 5th position of a variable ‘a’\n",
    "- Remove last item from the list"
   ]
  },
  {
   "cell_type": "code",
   "execution_count": 37,
   "metadata": {},
   "outputs": [
    {
     "name": "stdout",
     "output_type": "stream",
     "text": [
      "List created by built-in list method :  [2, 3, 4, 5, 6, 7]\n",
      "List created by square brackets :  [2, 3, 4, 5, 6, 7]\n",
      "List after adding mango, banana, grapes, orange :  [2, 3, 4, 5, 6, 7, 'mango', 'banana', 'grapes', 'orange']\n",
      "List after inseting apple at 5th position :  [2, 3, 4, 5, 'apple', 6, 7, 'mango', 'banana', 'grapes', 'orange']\n",
      "List after poping last item :  [2, 3, 4, 5, 'apple', 6, 7, 'mango', 'banana', 'grapes']\n"
     ]
    }
   ],
   "source": [
    "a = list((2,3,4,5,6,7))\n",
    "\n",
    "print(\"List created by built-in list method : \",a)\n",
    "\n",
    "a = [2,3,4,5,6,7]\n",
    "\n",
    "print(\"List created by square brackets : \",a)\n",
    "\n",
    "a.append(\"mango\")\n",
    "\n",
    "a = a + ['banana', 'grapes', 'orange']\n",
    "\n",
    "print(\"List after adding mango, banana, grapes, orange : \", a)\n",
    "\n",
    "position = 5\n",
    "\n",
    "a.insert(position - 1,\"apple\")\n",
    "\n",
    "print(\"List after inseting apple at 5th position : \", a)\n",
    "\n",
    "a.pop() # By default it delete last item of list\n",
    "\n",
    "print(\"List after poping last item : \", a)"
   ]
  },
  {
   "cell_type": "markdown",
   "metadata": {},
   "source": [
    "Q12. L = [1,2,3,4,5,6,7]\n",
    "- Using the above list slice from 1:4"
   ]
  },
  {
   "cell_type": "code",
   "execution_count": 38,
   "metadata": {},
   "outputs": [
    {
     "name": "stdout",
     "output_type": "stream",
     "text": [
      "Slice of L from 1 : 4 is  [2, 3, 4]\n"
     ]
    }
   ],
   "source": [
    "L = [1,2,3,4,5,6,7]\n",
    "\n",
    "L_slice = L[1:4]\n",
    "\n",
    "print(\"Slice of L from 1 : 4 is \",L_slice)"
   ]
  },
  {
   "cell_type": "markdown",
   "metadata": {},
   "source": [
    "Q13. Reverse the order of given string L = [4,5,6,8,3] Without using reverse() function."
   ]
  },
  {
   "cell_type": "code",
   "execution_count": 39,
   "metadata": {},
   "outputs": [
    {
     "name": "stdout",
     "output_type": "stream",
     "text": [
      "List after reversing :  [3, 8, 6, 5, 4]\n"
     ]
    }
   ],
   "source": [
    "L = [4,5,6,8,3]\n",
    "\n",
    "L = L[::-1]\n",
    "\n",
    "print(\"List after reversing : \", L)"
   ]
  },
  {
   "cell_type": "markdown",
   "metadata": {},
   "source": [
    "Q14. Use list comprehension to square the given list L=[2,4,7,3,6,8]"
   ]
  },
  {
   "cell_type": "code",
   "execution_count": 40,
   "metadata": {},
   "outputs": [
    {
     "name": "stdout",
     "output_type": "stream",
     "text": [
      "[4, 16, 49, 9, 36, 64]\n"
     ]
    }
   ],
   "source": [
    "L = [2,4,7,3,6,8]\n",
    "\n",
    "sqrt_of_L = [i**2 for i in L]\n",
    "\n",
    "print(sqrt_of_L)"
   ]
  },
  {
   "cell_type": "markdown",
   "metadata": {},
   "source": [
    "Q15. Create a function that takes in a tuple of integers and returns the sum of the integers."
   ]
  },
  {
   "cell_type": "code",
   "execution_count": 41,
   "metadata": {},
   "outputs": [
    {
     "name": "stdout",
     "output_type": "stream",
     "text": [
      "(1, 2, 3, 4) sum is 10\n"
     ]
    }
   ],
   "source": [
    "def sum_of_tuple(tuple):\n",
    "\n",
    "    sum = 0\n",
    "\n",
    "    for num in tuple :\n",
    "        sum += num\n",
    "    return f\"{tuple} sum is {sum}\" \n",
    "\n",
    "tuple = tuple(map(int,input(\"Enter numbers : \").split(\",\")))\n",
    "\n",
    "print(sum_of_tuple(tuple))"
   ]
  },
  {
   "cell_type": "markdown",
   "metadata": {},
   "source": [
    "Q16. Create two sets of your favorite fruits, and use the union() method to combine them into a\n",
    "single set.\n",
    "Print the resulting set to the console.\n",
    "\n"
   ]
  },
  {
   "cell_type": "code",
   "execution_count": 42,
   "metadata": {},
   "outputs": [
    {
     "name": "stdout",
     "output_type": "stream",
     "text": [
      "Union of set1 and set2 :  {'pineapple', 'orange', 'apple', 'Lemon', 'mango', 'banana'}\n"
     ]
    }
   ],
   "source": [
    "set1 = {\"apple\", \"banana\", \"mango\"}\n",
    "\n",
    "set2 = {\"Lemon\", \"orange\", \"pineapple\"}\n",
    "\n",
    "union_set = set1.union(set2)\n",
    "\n",
    "print(\"Union of set1 and set2 : \",union_set)"
   ]
  },
  {
   "cell_type": "markdown",
   "metadata": {},
   "source": [
    "Q17. Create a set of random words, and use the add() method to add a new word to the set.\n",
    "Print the\n",
    "resulting set to the console."
   ]
  },
  {
   "cell_type": "code",
   "execution_count": 44,
   "metadata": {},
   "outputs": [
    {
     "name": "stdout",
     "output_type": "stream",
     "text": [
      "set after adding 'jkl' :  {'abc', 'def', 'jkl', 'ghi'}\n"
     ]
    }
   ],
   "source": [
    "set = {\"abc\", \"def\", \"ghi\"}\n",
    "\n",
    "set.add(\"jkl\")\n",
    "\n",
    "print(\"set after adding 'jkl' : \", set)"
   ]
  },
  {
   "cell_type": "markdown",
   "metadata": {},
   "source": [
    "Q18. Create a set of your favorite animals, and use the remove() method to remove one animal\n",
    "from the\n",
    "set. Print the resulting set to the console."
   ]
  },
  {
   "cell_type": "code",
   "execution_count": 45,
   "metadata": {},
   "outputs": [
    {
     "name": "stdout",
     "output_type": "stream",
     "text": [
      "set after removing 'buffalo' :  {'dog', 'cat', 'elephant'}\n"
     ]
    }
   ],
   "source": [
    "set = {\"buffalo\", \"cat\", \"dog\", \"elephant\"}\n",
    "\n",
    "set.remove(\"buffalo\")\n",
    "\n",
    "print(\"set after removing 'buffalo' : \", set)"
   ]
  },
  {
   "cell_type": "markdown",
   "metadata": {},
   "source": [
    "Q19. favorite_books = {\"1984\", \"To Kill a Mockingbird\", \"Pride and Prejudice\"}\n",
    "favorite_movies = [\"The Shawshank Redemption\", \"The Godfather\", \"The Dark Knight\"]\n",
    "Use the zip() function to combine the book set and movie list into a list of tuples representing\n",
    "book/\n",
    "movie pairs. Print the resulting list."
   ]
  },
  {
   "cell_type": "code",
   "execution_count": 49,
   "metadata": {},
   "outputs": [
    {
     "name": "stdout",
     "output_type": "stream",
     "text": [
      "[('To Kill a Mockingbird', 'The Shawshank Redemption'), ('Pride and Prejudice', 'The Godfather'), ('1984', 'The Dark Knight')]\n"
     ]
    }
   ],
   "source": [
    "favorite_books = {\"1984\", \"To Kill a Mockingbird\", \"Pride and Prejudice\"}\n",
    "favorite_movies = [\"The Shawshank Redemption\", \"The Godfather\", \"The Dark Knight\"]\n",
    "\n",
    "book_movie_pair = list(zip(favorite_books,favorite_movies))\n",
    "\n",
    "print(book_movie_pair)"
   ]
  },
  {
   "cell_type": "markdown",
   "metadata": {},
   "source": [
    "Q20. Write a Python program to find the difference between consecutive numbers in a list.\n",
    "Solutions:"
   ]
  },
  {
   "cell_type": "code",
   "execution_count": 53,
   "metadata": {},
   "outputs": [
    {
     "name": "stdout",
     "output_type": "stream",
     "text": [
      "Difference between consecutive numbers in a list [9, 8, 7] :  [1, 1]\n"
     ]
    }
   ],
   "source": [
    "num_list = list(map(int,input(\"Enter numbers: \").split(\",\")))\n",
    "\n",
    "solution = []\n",
    "\n",
    "for i in range(len(num_list)-1):\n",
    "    diff  = num_list[i] - num_list[i+1]\n",
    "    solution.append(diff)\n",
    "\n",
    "print(f\"Difference between consecutive numbers in a list {num_list} : \", solution)"
   ]
  },
  {
   "cell_type": "markdown",
   "metadata": {},
   "source": [
    "Q21. Create a dictionary called fruits with the following key-value pairs:\n",
    "- \"apple\": 0.75\n",
    "- \"banana\": 1.25\n",
    "- \"orange\": 0.90\n",
    ">. Then, print out the price of a banana."
   ]
  },
  {
   "cell_type": "code",
   "execution_count": 55,
   "metadata": {},
   "outputs": [
    {
     "name": "stdout",
     "output_type": "stream",
     "text": [
      "Price of banana in dict is 1.25\n"
     ]
    }
   ],
   "source": [
    "dict = {\"apple\": 0.75, \"banana\": 1.25, \"orange\": 0.90}\n",
    "\n",
    "print(\"Price of banana in dict is\",dict[\"banana\"] )"
   ]
  },
  {
   "cell_type": "markdown",
   "metadata": {},
   "source": [
    "Q22. Create an empty dictionary called ages. Add the following key-value pairs to the dictionary:\n",
    "- \"Alice\": 30\n",
    "- \"Bob\": 25\n",
    "- \"Charlie\": 35\n",
    ">. Then, print out the age of Charlie."
   ]
  },
  {
   "cell_type": "code",
   "execution_count": 60,
   "metadata": {},
   "outputs": [
    {
     "name": "stdout",
     "output_type": "stream",
     "text": [
      "{'Alice': 30, 'Bob': 25, 'Charlie': 35}\n"
     ]
    }
   ],
   "source": [
    "ages = {}\n",
    "\n",
    "ages[\"Alice\"] = 30\n",
    "ages[\"Bob\"] = 25\n",
    "ages[\"Charlie\"] = 35\n",
    "\n",
    "print(ages)"
   ]
  },
  {
   "cell_type": "markdown",
   "metadata": {},
   "source": [
    "Q23. Write a function called word_count(text) that takes a string as input and returns a\n",
    "dictionary where, \n",
    "Each key is a word in the text and its value is the number of times that word appears in the text.\n",
    "For\n",
    "for example, word_count(\"hello world hello\") should return {\"hello\": 2, \"world\": 1}."
   ]
  },
  {
   "cell_type": "code",
   "execution_count": 65,
   "metadata": {},
   "outputs": [
    {
     "name": "stdout",
     "output_type": "stream",
     "text": [
      "{'hello': 2, 'world': 1}\n"
     ]
    }
   ],
   "source": [
    "def word_count(str):\n",
    "    str_list = str.split(\" \")\n",
    "\n",
    "    count_dict = {}\n",
    "\n",
    "    for str in str_list:\n",
    "        count_dict[str] = str_list.count(str)\n",
    "\n",
    "    return count_dict\n",
    "\n",
    "str = input(\"Enter string : \")\n",
    "\n",
    "print(word_count(str))\n"
   ]
  },
  {
   "cell_type": "markdown",
   "metadata": {},
   "source": [
    "Q24. Create a dictionary called phone_book with the following key-value pairs:\n",
    "\"Alice\": \"555-1234\"\n",
    "\"Bob\": \"555-5678\"\n",
    "\"Charlie\": \"555-9012\"\n",
    "Then, prompt the user to enter a name and print out the corresponding phone number. If the\n",
    "name is not\n",
    "in the phone book, print out a message saying that the name was not found."
   ]
  },
  {
   "cell_type": "code",
   "execution_count": 66,
   "metadata": {},
   "outputs": [
    {
     "name": "stdout",
     "output_type": "stream",
     "text": [
      "Phone-number corresponding to Bob is 555-5678\n"
     ]
    }
   ],
   "source": [
    "def fetch(dict):\n",
    "\n",
    "    KEY = input(\"Enter key to fetch phone-number : \")\n",
    "\n",
    "    if KEY in dict.keys():\n",
    "        return f\"Phone-number corresponding to {KEY} is {dict[KEY]}\"\n",
    "    \n",
    "    else:\n",
    "        return f\"{KEY} is not found\"\n",
    "    \n",
    "dict = {\"Alice\": \"555-1234\", \"Bob\": \"555-5678\", \"Charlie\": \"555-9012\"}\n",
    "\n",
    "print(fetch(dict))"
   ]
  },
  {
   "cell_type": "markdown",
   "metadata": {},
   "source": [
    "Q25. Write a program that prompts the user to enter a number between 1 and 10. If the number\n",
    "is less than\n",
    "5, print out \"Too low!\", otherwise print out \"Too high!\"."
   ]
  },
  {
   "cell_type": "code",
   "execution_count": 68,
   "metadata": {},
   "outputs": [
    {
     "name": "stdout",
     "output_type": "stream",
     "text": [
      "2 is Too low!\n"
     ]
    }
   ],
   "source": [
    "num = int(input(\"Enter a number between 1 and 10 : \"))\n",
    "\n",
    "if num < 5 :\n",
    "    print(f\"{num} is Too low!\")\n",
    "\n",
    "else:\n",
    "    print(f\"{num} is Too high!\")"
   ]
  },
  {
   "cell_type": "markdown",
   "metadata": {},
   "source": [
    "Q26. Write a program that prompts the user to enter a password. If the password is\n",
    "\"password123\", print\n",
    "out \"Access granted\", otherwise print out \"Access denied\"."
   ]
  },
  {
   "cell_type": "code",
   "execution_count": 70,
   "metadata": {},
   "outputs": [
    {
     "name": "stdout",
     "output_type": "stream",
     "text": [
      "Access granted\n"
     ]
    }
   ],
   "source": [
    "password = input(\"Enter a password : \")\n",
    "\n",
    "if password == \"password123\":\n",
    "    print(\"Access granted\")\n",
    "\n",
    "else:\n",
    "    print(\"Access denied\")"
   ]
  },
  {
   "cell_type": "markdown",
   "metadata": {},
   "source": [
    "Q27. Write a program that prompts the user to enter a positive integer. Then, use a loop to print\n",
    "out all the\n",
    "odd numbers from 1 to that integer."
   ]
  },
  {
   "cell_type": "code",
   "execution_count": 74,
   "metadata": {},
   "outputs": [
    {
     "name": "stdout",
     "output_type": "stream",
     "text": [
      "Odd num from 1 to 20 : 3 6 9 12 15 18 "
     ]
    }
   ],
   "source": [
    "num = int(input(\"Enter a positive integer : \"))\n",
    "\n",
    "print(f\"Odd num from 1 to {num} : \",end='')\n",
    "\n",
    "for i in range(1,num+1):\n",
    "    \n",
    "    if i % 3 == 0 :\n",
    "        print(i, end=\" \")"
   ]
  },
  {
   "cell_type": "markdown",
   "metadata": {},
   "source": [
    "Q28. Write a program that generates a random number between 1 and 100 and then prompts\n",
    "the user to\n",
    "guess the number. If the user's guess is too low, print out \"Too low!\", if the guess is too high,\n",
    "print out \"Toohigh!\", and if the guess is correct, print out \"You win!\"."
   ]
  },
  {
   "cell_type": "code",
   "execution_count": 4,
   "metadata": {},
   "outputs": [
    {
     "name": "stdout",
     "output_type": "stream",
     "text": [
      "Too high!\n",
      "Too high!\n"
     ]
    }
   ],
   "source": [
    "import random\n",
    "\n",
    "def guess_number():\n",
    "\n",
    "    random_number = random.randint(1,100)\n",
    "\n",
    "    while True :\n",
    "        guess = int(input(\"Guess the number (between 1 and 100) or 0 to exit: \"))\n",
    "\n",
    "        if guess < random_number and guess != 0:\n",
    "            print(\"Too low!\")\n",
    "        \n",
    "        elif guess > random_number and guess != 0:\n",
    "            print(\"Too high!\")\n",
    "        \n",
    "        elif guess == random_number and guess != 0:\n",
    "            print(\"You win!\")\n",
    "        \n",
    "        elif guess == 0 :\n",
    "            break\n",
    "\n",
    "\n",
    "guess_number()"
   ]
  },
  {
   "cell_type": "markdown",
   "metadata": {},
   "source": [
    "Q29. Write a program that generates a random number between 1 and 10 and then prompts the\n",
    "user to\n",
    "guess the number. The user has three attempts to guess the number. If the user guesses\n",
    "correctly within\n",
    "three attempts, print out \"You win!\", otherwise print out \"You lose!\"."
   ]
  },
  {
   "cell_type": "code",
   "execution_count": 1,
   "metadata": {},
   "outputs": [
    {
     "name": "stdout",
     "output_type": "stream",
     "text": [
      "You lose!\n"
     ]
    }
   ],
   "source": [
    "import random\n",
    "\n",
    "def guess():\n",
    "\n",
    "    random_number = random.randint(1,10)\n",
    "\n",
    "    status = 'You lose!'\n",
    "\n",
    "    i = 0 \n",
    "\n",
    "    while i < 3 :\n",
    "\n",
    "        guess = int(input(\"Guess the number (between 1 and 10) : \"))\n",
    "\n",
    "        if random_number == guess :\n",
    "            status = \"You win!\"\n",
    "\n",
    "        i += 1\n",
    "    \n",
    "    print(status)\n",
    "\n",
    "guess()\n",
    "\n"
   ]
  },
  {
   "cell_type": "markdown",
   "metadata": {},
   "source": [
    "Q30. Write a program that prompts the user to enter their age and then prints out whether they\n",
    "are a child\n",
    "(age 0-12), a teenager (age 13-19), an adult (age 20-59), or a senior (age 60+)"
   ]
  },
  {
   "cell_type": "code",
   "execution_count": 3,
   "metadata": {},
   "outputs": [
    {
     "name": "stdout",
     "output_type": "stream",
     "text": [
      "Person is senior\n"
     ]
    }
   ],
   "source": [
    "def person(age):\n",
    "\n",
    "    if 0 < age <= 12 :\n",
    "        return \"Person is child\"\n",
    "    \n",
    "    elif 13 <= age <= 19 :\n",
    "        return \"Person is teenager\"\n",
    "    \n",
    "    elif 20 <= age <= 59 :\n",
    "        return \"Person is an adult\"\n",
    "    \n",
    "    else:\n",
    "        return \"Person is senior\"\n",
    "    \n",
    "age = int(input(\"Enter your age : \"))\n",
    "\n",
    "print(person(age))"
   ]
  },
  {
   "cell_type": "markdown",
   "metadata": {},
   "source": [
    "Q31. Create a class called \"Person\" with properties for \"name\", \"age\", and \"gender\". Create an\n",
    "object of this\n",
    "class and print out its properties."
   ]
  },
  {
   "cell_type": "code",
   "execution_count": 2,
   "metadata": {},
   "outputs": [
    {
     "name": "stdout",
     "output_type": "stream",
     "text": [
      "Name :  Bharath\n",
      "Age :  19\n",
      "Gender :  Male\n"
     ]
    }
   ],
   "source": [
    "class Person :\n",
    "    def __init__(self, name, age, gender):\n",
    "        self.name = name\n",
    "        self.age = age\n",
    "        self.gender = gender\n",
    "\n",
    "person1 = Person(\"Bharath\",19,\"Male\")\n",
    "\n",
    "print(\"Name : \", person1.name)\n",
    "print(\"Age : \", person1.age)\n",
    "print(\"Gender : \", person1.gender)"
   ]
  },
  {
   "cell_type": "markdown",
   "metadata": {},
   "source": [
    "Q32. Write a Python class called \"Rectangle\" with attributes for \"width\" and \"height\". Implement\n",
    "methods\n",
    "to calculate the area and perimeter of the rectangle. Create an instance of this class and use it\n",
    "to print out\n",
    "the rectangle's area and perimeter."
   ]
  },
  {
   "cell_type": "code",
   "execution_count": 5,
   "metadata": {},
   "outputs": [
    {
     "name": "stdout",
     "output_type": "stream",
     "text": [
      "Area : 200\n",
      "Perimeter : 60\n"
     ]
    }
   ],
   "source": [
    "class Rectangle:\n",
    "    def __init__(self, width, height):\n",
    "        self.width = width\n",
    "        self.height = height\n",
    "\n",
    "    def area(self):\n",
    "        area = self.width * self.height\n",
    "        return f\"Area : {area}\"\n",
    "    \n",
    "    def perimeter(self):\n",
    "        perimeter = 2 * (self.width + self.height)\n",
    "        return f\"Perimeter : {perimeter}\"\n",
    "    \n",
    "shape = Rectangle(20,10)\n",
    "\n",
    "print(shape.area())\n",
    "print(shape.perimeter())"
   ]
  },
  {
   "cell_type": "markdown",
   "metadata": {},
   "source": [
    "Q33. Write a Python class called \"BankAccount\" with attributes for \"balance\" and \"interest_rate\".\n",
    "Implement methods to deposit and withdraw money from the account, as well as to calculate the\n",
    "interest\n",
    "earned on the balance based on the interest rate. Create an instance of this class and use it to\n",
    "test out the\n",
    "implemented methods for deposit, withdrawal, and interest calculation."
   ]
  },
  {
   "cell_type": "code",
   "execution_count": 7,
   "metadata": {},
   "outputs": [
    {
     "name": "stdout",
     "output_type": "stream",
     "text": [
      "Deposited 500 rs. New balance: 1500 rs.\n",
      "Withdrew 200 rs. New balance: 1300 rs.\n",
      "Interest earned: 65.0 rs.\n"
     ]
    },
    {
     "data": {
      "text/plain": [
       "65.0"
      ]
     },
     "execution_count": 7,
     "metadata": {},
     "output_type": "execute_result"
    }
   ],
   "source": [
    "class BankAccount:\n",
    "    def __init__(self, balance=0, interest_rate=0.0):\n",
    "        self.balance = balance\n",
    "        self.interest_rate = interest_rate\n",
    "    \n",
    "    def deposit(self, amount):\n",
    "        self.balance += amount\n",
    "        print(f\"Deposited {amount} rs. New balance: {self.balance} rs.\")\n",
    "    \n",
    "    def withdraw(self, amount):\n",
    "        if self.balance >= amount:\n",
    "            self.balance -= amount\n",
    "            print(f\"Withdrew {amount} rs. New balance: {self.balance} rs.\")\n",
    "        else:\n",
    "            print(\"Insufficient funds.\")\n",
    "    \n",
    "    def calculate_interest(self):\n",
    "        interest = self.balance * self.interest_rate\n",
    "        print(f\"Interest earned: {interest} rs.\")\n",
    "        return interest\n",
    "\n",
    "\n",
    "account = BankAccount(1000,12)\n",
    "\n",
    "account = BankAccount(balance=1000, interest_rate=0.05)\n",
    "\n",
    "account.deposit(500)\n",
    "\n",
    "account.withdraw(200)\n",
    "\n",
    "account.calculate_interest()\n"
   ]
  },
  {
   "cell_type": "markdown",
   "metadata": {},
   "source": [
    "Q34. Write a Python class called \"Animal\" with attributes for \"name\" and \"species\". Create a\n",
    "subclass of\n",
    "\"Animal\" called \"Dog\" with additional attributes for \"breed\" and \"owner\". Implement both classes\n",
    "with\n",
    "appropriate methods and constructors to initialize their properties. Create instances of both\n",
    "classes and\n",
    "use them to print out the various properties of the animals and dogs, such as their names,\n",
    "species,\n",
    "breeds, and owners."
   ]
  },
  {
   "cell_type": "code",
   "execution_count": 12,
   "metadata": {},
   "outputs": [
    {
     "name": "stdout",
     "output_type": "stream",
     "text": [
      "Name: Lion\n",
      "Species: Mammal\n",
      "Name: Max\n",
      "Species: Dog\n",
      "Breed: Labrador Retriever\n",
      "Owner: John\n"
     ]
    }
   ],
   "source": [
    "class Animal:\n",
    "    def __init__(self, name, species):\n",
    "        self.name = name\n",
    "        self.species = species\n",
    "    \n",
    "    def print_info(self):\n",
    "        print(f\"Name: {self.name}\")\n",
    "        print(f\"Species: {self.species}\")\n",
    "\n",
    "\n",
    "class Dog(Animal):\n",
    "    def __init__(self, name, species, breed, owner):\n",
    "        super().__init__(name, species)\n",
    "        self.breed = breed\n",
    "        self.owner = owner\n",
    "    \n",
    "    def print_info(self):\n",
    "        super().print_info()\n",
    "        print(f\"Breed: {self.breed}\")\n",
    "        print(f\"Owner: {self.owner}\")\n",
    "    \n",
    "animal = Animal(\"Lion\", \"Mammal\")\n",
    "animal.print_info()\n",
    "\n",
    "dog = Dog(\"Max\", \"Dog\", \"Labrador Retriever\", \"John\")\n",
    "dog.print_info()"
   ]
  },
  {
   "cell_type": "markdown",
   "metadata": {},
   "source": [
    "Q35. Create a class called \"Car\" with properties for \"make\", \"model\", and \"year\". Create a\n",
    "subclass of \"Car\"\n",
    "called \"ElectricCar\" with additional properties for \"battery_size\" and \"range\". Create objects of\n",
    "both\n",
    "classes and print out their properties."
   ]
  },
  {
   "cell_type": "code",
   "execution_count": 13,
   "metadata": {},
   "outputs": [
    {
     "name": "stdout",
     "output_type": "stream",
     "text": [
      "Make: Honda\n",
      "Model: Civic\n",
      "Year: 2022\n",
      "Make: Tesla\n",
      "Model: Model S\n",
      "Year: 2023\n",
      "Battery Size: 85 kWh\n",
      "Range: 300 miles\n"
     ]
    }
   ],
   "source": [
    "class Car:\n",
    "    def __init__(self, make, model, year):\n",
    "        self.make = make\n",
    "        self.model = model\n",
    "        self.year = year\n",
    "    \n",
    "    def print_info(self):\n",
    "        print(f\"Make: {self.make}\")\n",
    "        print(f\"Model: {self.model}\")\n",
    "        print(f\"Year: {self.year}\")\n",
    "\n",
    "\n",
    "class ElectricCar(Car):\n",
    "    def __init__(self, make, model, year, battery_size, range):\n",
    "        super().__init__(make, model, year)\n",
    "        self.battery_size = battery_size\n",
    "        self.range = range\n",
    "    \n",
    "    def print_info(self):\n",
    "        super().print_info()\n",
    "        print(f\"Battery Size: {self.battery_size} kWh\")\n",
    "        print(f\"Range: {self.range} miles\")\n",
    "\n",
    "\n",
    "car = Car(\"Honda\", \"Civic\", 2022)\n",
    "car.print_info()\n",
    "\n",
    "\n",
    "electric_car = ElectricCar(\"Tesla\", \"Model S\", 2023, 85, 300)\n",
    "electric_car.print_info()\n"
   ]
  },
  {
   "cell_type": "markdown",
   "metadata": {},
   "source": [
    "Q36. Create a class called \"Student\" with properties for \"name\" and \"id\". Create a subclass of\n",
    "\"Student\"\n",
    "called \"GraduateStudent\" with additional properties for \"advisor\" and \"research_area\". Create\n",
    "objects of\n",
    "both classes and print out their properties."
   ]
  },
  {
   "cell_type": "code",
   "execution_count": 16,
   "metadata": {},
   "outputs": [
    {
     "name": "stdout",
     "output_type": "stream",
     "text": [
      "Student Name : Bharath\n",
      "Student id = 122\n",
      "\n",
      "Student Name : Sharath\n",
      "Student id = 123\n",
      "Advisor : Politics\n",
      "Research_area : Politics\n"
     ]
    }
   ],
   "source": [
    "class Student:\n",
    "    def __init__(self, name, id):\n",
    "        self.name = name\n",
    "        self.id = id\n",
    "\n",
    "    def print_info(self):\n",
    "        print(f\"Student Name : {self.name}\")\n",
    "        print(f\"Student id = {self.id}\")\n",
    "\n",
    "class GraduateStudent(Student):\n",
    "    def __init__(self,name, id, advisor, research_area):\n",
    "        super().__init__(name,id)\n",
    "        self.advisor = advisor\n",
    "        self.research_area = research_area\n",
    "\n",
    "    def print_info(self):\n",
    "        super().print_info()\n",
    "        print(f\"Advisor : {self.advisor}\")\n",
    "        print(f\"Research_area : {self.research_area}\")\n",
    "\n",
    "student = Student(\"Bharath\", 122)\n",
    "\n",
    "student.print_info()\n",
    "print()\n",
    "\n",
    "graduateStudent = GraduateStudent(\"Sharath\", 123, \"Politics\", \"Politics\")\n",
    "\n",
    "graduateStudent.print_info()"
   ]
  },
  {
   "cell_type": "markdown",
   "metadata": {},
   "source": [
    "Q37. Create a class called \"Shape\" with methods to calculate the area and perimeter of the\n",
    "shape. Create\n",
    "subclasses of \"Shape\" for \"Rectangle\", \"Circle\", and \"Triangle\" with their own methods for\n",
    "calculating area\n",
    "and perimeter. Create objects of each class and print out their area and perimeter."
   ]
  },
  {
   "cell_type": "code",
   "execution_count": 4,
   "metadata": {},
   "outputs": [
    {
     "name": "stdout",
     "output_type": "stream",
     "text": [
      "Rectangle:\n",
      "Area: 20\n",
      "Perimeter: 18\n",
      "\n",
      "Circle:\n",
      "Area: 28.274333882308138\n",
      "Perimeter: 18.84955592153876\n",
      "\n",
      "Triangle:\n",
      "Area: 6.0\n",
      "Perimeter: 12\n"
     ]
    }
   ],
   "source": [
    "import math\n",
    "\n",
    "class Shape:\n",
    "    def __init__(self):\n",
    "        pass\n",
    "    \n",
    "    def calculate_area(self):\n",
    "        pass\n",
    "    \n",
    "    def calculate_perimeter(self):\n",
    "        pass\n",
    "\n",
    "\n",
    "class Rectangle(Shape):\n",
    "    def __init__(self, length, width):\n",
    "        super().__init__()\n",
    "        self.length = length\n",
    "        self.width = width\n",
    "    \n",
    "    def calculate_area(self):\n",
    "        return self.length * self.width\n",
    "    \n",
    "    def calculate_perimeter(self):\n",
    "        return 2 * (self.length + self.width)\n",
    "\n",
    "\n",
    "class Circle(Shape):\n",
    "    def __init__(self, radius):\n",
    "        super().__init__()\n",
    "        self.radius = radius\n",
    "    \n",
    "    def calculate_area(self):\n",
    "        return math.pi * self.radius**2\n",
    "    \n",
    "    def calculate_perimeter(self):\n",
    "        return 2 * math.pi * self.radius\n",
    "\n",
    "\n",
    "class Triangle(Shape):\n",
    "    def __init__(self, side1, side2, side3):\n",
    "        super().__init__()\n",
    "        self.side1 = side1\n",
    "        self.side2 = side2\n",
    "        self.side3 = side3\n",
    "    \n",
    "    def calculate_area(self):\n",
    "        s = (self.side1 + self.side2 + self.side3) / 2\n",
    "        return math.sqrt(s * (s - self.side1) * (s - self.side2) * (s - self.side3))\n",
    "    \n",
    "    def calculate_perimeter(self):\n",
    "        return self.side1 + self.side2 + self.side3\n",
    "\n",
    "\n",
    "\n",
    "rectangle = Rectangle(4, 5)\n",
    "print(\"Rectangle:\")\n",
    "print(\"Area:\", rectangle.calculate_area())\n",
    "print(\"Perimeter:\", rectangle.calculate_perimeter())\n",
    "\n",
    "print()\n",
    "\n",
    "circle = Circle(3)\n",
    "print(\"Circle:\")\n",
    "print(\"Area:\", circle.calculate_area())\n",
    "print(\"Perimeter:\", circle.calculate_perimeter())\n",
    "\n",
    "print()\n",
    "\n",
    "triangle = Triangle(3, 4, 5)\n",
    "print(\"Triangle:\")\n",
    "print(\"Area:\", triangle.calculate_area())\n",
    "print(\"Perimeter:\", triangle.calculate_perimeter())\n"
   ]
  },
  {
   "cell_type": "markdown",
   "metadata": {},
   "source": [
    "Q38. Create a class called \"Employee\" with properties for \"name\", \"id\", and \"salary\". Add\n",
    "methods to give the employee a raise and to calculate their annual salary. Create objects of this\n",
    "class and test out the\n",
    "methods."
   ]
  },
  {
   "cell_type": "code",
   "execution_count": 6,
   "metadata": {},
   "outputs": [
    {
     "name": "stdout",
     "output_type": "stream",
     "text": [
      "Employee 1\n",
      "Name: John Doe\n",
      "ID: 12345\n",
      "Salary: 5000\n",
      "Annual Salary: 60000\n",
      "\n",
      "After giving raises:\n",
      "Employee 1\n",
      "Salary: 6000\n",
      "Annual Salary: 72000\n"
     ]
    }
   ],
   "source": [
    "class Employee:\n",
    "    def __init__(self, name, id, salary):\n",
    "        self.name = name\n",
    "        self.id = id\n",
    "        self.salary = salary\n",
    "    \n",
    "    def give_raise(self, amount):\n",
    "        self.salary += amount\n",
    "    \n",
    "    def calculate_annual_salary(self):\n",
    "        return self.salary * 12\n",
    "\n",
    "\n",
    "\n",
    "employee1 = Employee(\"John Doe\", 12345, 5000)\n",
    "print(\"Employee 1\")\n",
    "print(\"Name:\", employee1.name)\n",
    "print(\"ID:\", employee1.id)\n",
    "print(\"Salary:\", employee1.salary)\n",
    "print(\"Annual Salary:\", employee1.calculate_annual_salary())\n",
    "\n",
    "print()\n",
    "\n",
    "employee1.give_raise(1000)\n",
    "\n",
    "print(\"After giving raises:\")\n",
    "print(\"Employee 1\")\n",
    "print(\"Salary:\", employee1.salary)\n",
    "print(\"Annual Salary:\", employee1.calculate_annual_salary())"
   ]
  },
  {
   "cell_type": "markdown",
   "metadata": {},
   "source": [
    "Q39. Create a class called \"Book\" with properties for \"title\", \"author\", and \"publisher\". Create a\n",
    "subclass of\n",
    "\"Book\" is called \"Ebook\" with additional properties for \"file_format\" and \"file_size\". Create\n",
    "objects of both\n",
    "classes and print out their properties."
   ]
  },
  {
   "cell_type": "code",
   "execution_count": 7,
   "metadata": {},
   "outputs": [
    {
     "name": "stdout",
     "output_type": "stream",
     "text": [
      "Book 1:\n",
      "Title: The Great Gatsby\n",
      "Author: F. Scott Fitzgerald\n",
      "Publisher: Scribner\n",
      "\n",
      "Ebook 1:\n",
      "Title: Harry Potter and the Sorcerer's Stone\n",
      "Author: J.K. Rowling\n",
      "Publisher: Bloomsbury\n",
      "File Format: PDF\n",
      "File Size: 2.5 MB\n"
     ]
    }
   ],
   "source": [
    "class Book:\n",
    "    def __init__(self, title, author, publisher):\n",
    "        self.title = title\n",
    "        self.author = author\n",
    "        self.publisher = publisher\n",
    "\n",
    "\n",
    "class Ebook(Book):\n",
    "    def __init__(self, title, author, publisher, file_format, file_size):\n",
    "        super().__init__(title, author, publisher)\n",
    "        self.file_format = file_format\n",
    "        self.file_size = file_size\n",
    "\n",
    "\n",
    "\n",
    "book1 = Book(\"The Great Gatsby\", \"F. Scott Fitzgerald\", \"Scribner\")\n",
    "print(\"Book 1:\")\n",
    "print(\"Title:\", book1.title)\n",
    "print(\"Author:\", book1.author)\n",
    "print(\"Publisher:\", book1.publisher)\n",
    "\n",
    "print()\n",
    "\n",
    "ebook1 = Ebook(\"Harry Potter and the Sorcerer's Stone\", \"J.K. Rowling\", \"Bloomsbury\", \"PDF\", \"2.5 MB\")\n",
    "print(\"Ebook 1:\")\n",
    "print(\"Title:\", ebook1.title)\n",
    "print(\"Author:\", ebook1.author)\n",
    "print(\"Publisher:\", ebook1.publisher)\n",
    "print(\"File Format:\", ebook1.file_format)\n",
    "print(\"File Size:\", ebook1.file_size)\n"
   ]
  },
  {
   "cell_type": "markdown",
   "metadata": {},
   "source": [
    "Q40. Create a class called \"Bank\" with properties for \"name\" and \"accounts\". Add methods to\n",
    "create new\n",
    "accounts, deposit and withdraw money from accounts, and to calculate the total balance of all\n",
    "accounts.\n",
    "Create an object of this class and test out the methods."
   ]
  },
  {
   "cell_type": "code",
   "execution_count": 9,
   "metadata": {},
   "outputs": [
    {
     "name": "stdout",
     "output_type": "stream",
     "text": [
      "Account Details:\n",
      "Account Number: A001\n",
      "Balance: 5500\n",
      "\n",
      "Account Number: A002\n",
      "Balance: 3500\n",
      "\n",
      "Total Balance: 9000\n"
     ]
    }
   ],
   "source": [
    "class Bank:\n",
    "    def __init__(self, name):\n",
    "        self.name = name\n",
    "        self.accounts = []\n",
    "    \n",
    "    def create_account(self, account_number, initial_balance=0):\n",
    "        account = {\"account_number\": account_number, \"balance\": initial_balance}\n",
    "        self.accounts.append(account)\n",
    "    \n",
    "    def deposit(self, account_number, amount):\n",
    "        for account in self.accounts:\n",
    "            if account[\"account_number\"] == account_number:\n",
    "                account[\"balance\"] += amount\n",
    "                break\n",
    "    \n",
    "    def withdraw(self, account_number, amount):\n",
    "        for account in self.accounts:\n",
    "            if account[\"account_number\"] == account_number:\n",
    "                if account[\"balance\"] >= amount:\n",
    "                    account[\"balance\"] -= amount\n",
    "                    break\n",
    "                else:\n",
    "                    print(\"Insufficient balance.\")\n",
    "                    break\n",
    "    \n",
    "    def calculate_total_balance(self):\n",
    "        total_balance = 0\n",
    "        for account in self.accounts:\n",
    "            total_balance += account[\"balance\"]\n",
    "        return total_balance\n",
    "\n",
    "\n",
    "# Creating a Bank object and testing the methods\n",
    "\n",
    "bank = Bank(\"MyBank\")\n",
    "\n",
    "# Create accounts\n",
    "bank.create_account(\"A001\", 5000)\n",
    "bank.create_account(\"A002\", 3000)\n",
    "\n",
    "# Deposit money\n",
    "bank.deposit(\"A001\", 2000)\n",
    "bank.deposit(\"A002\", 1000)\n",
    "\n",
    "# Withdraw money\n",
    "bank.withdraw(\"A001\", 1500)\n",
    "bank.withdraw(\"A002\", 500)\n",
    "\n",
    "# Calculate total balance\n",
    "total_balance = bank.calculate_total_balance()\n",
    "\n",
    "# Print account details and total balance\n",
    "print(\"Account Details:\")\n",
    "for account in bank.accounts:\n",
    "    print(\"Account Number:\", account[\"account_number\"])\n",
    "    print(\"Balance:\", account[\"balance\"])\n",
    "    print()\n",
    "\n",
    "print(\"Total Balance:\", total_balance)\n"
   ]
  },
  {
   "cell_type": "markdown",
   "metadata": {},
   "source": [
    "\n",
    "Q41. Can you create a Python program that reads a text file and counts the number of words\n",
    "contained\n",
    "within it? The program should be designed to read the file and break it down into individual\n",
    "words, usingspaces, punctuation marks, and other delimiters to separate the words. It should then count the\n",
    "number\n",
    "of words found in the file and display this count as output. The program should be flexible\n",
    "enough to work\n",
    "with different text files and should be able to handle a variety of formatting and punctuation\n",
    "styles."
   ]
  },
  {
   "cell_type": "code",
   "execution_count": null,
   "metadata": {},
   "outputs": [],
   "source": [
    "import string\n",
    "\n",
    "def count_words(filename):\n",
    "    with open(filename, 'r') as file:\n",
    "        text = file.read()\n",
    "    \n",
    "        text = text.translate(str.maketrans('', '', string.punctuation))\n",
    "    \n",
    "        words = text.split()\n",
    "\n",
    "        word_count = len(words)\n",
    "    return word_count\n",
    "\n",
    "\n",
    "filename = 'Student.txt'  \n",
    "word_count = count_words(filename)\n",
    "print(f\"Number of words in '{filename}': {word_count}\")\n"
   ]
  },
  {
   "cell_type": "markdown",
   "metadata": {},
   "source": [
    "\n",
    "Q42. Could you help me create a Python program that can find and display the longest word in\n",
    "a text file?\n",
    "The program should be able to read any text file and separate its contents into individual words,\n",
    "taking\n",
    "into account various delimiters like spaces, punctuation marks, and other characters. Then, it\n",
    "should\n",
    "compare the length of each word and determine which one is the longest, and finally, print that\n",
    "word as\n",
    "output. The program should be versatile enough to work with various text files and be able to\n",
    "handle\n",
    "different formatting styles and punctuation."
   ]
  },
  {
   "cell_type": "code",
   "execution_count": null,
   "metadata": {},
   "outputs": [],
   "source": [
    "import string\n",
    "\n",
    "def longest_word(filename):\n",
    "    with open(filename, 'r') as file:\n",
    "        text = file.read()\n",
    "    \n",
    "        text = text.translate(str.maketrans('', '', string.punctuation))\n",
    "    \n",
    "        words = text.split()\n",
    "\n",
    "        logest_word = max(words)\n",
    "    return longest_word\n",
    "\n",
    "\n",
    "filename = 'Student.txt'  \n",
    "longest_word = longest_word(filename)\n",
    "print(f\"Number of words in '{filename}': {longest_word}\")\n"
   ]
  },
  {
   "cell_type": "markdown",
   "metadata": {},
   "source": [
    "Q43. Write a Python program to read a text file and print out the most frequent word(s) in the\n",
    "file."
   ]
  },
  {
   "cell_type": "code",
   "execution_count": null,
   "metadata": {},
   "outputs": [],
   "source": [
    "import string\n",
    "\n",
    "def frequent_word(filename):\n",
    "    with open(filename, 'r') as file:\n",
    "        text = file.read()\n",
    "    \n",
    "        text = text.translate(str.maketrans('', '', string.punctuation))\n",
    "    \n",
    "        words = text.split()\n",
    "\n",
    "        frequent_word_count = max([word.count() for word in words])\n",
    "        \n",
    "        for word in set(words):\n",
    "            if word.count() == frequent_word_count:\n",
    "                print(word)\n",
    "\n",
    "\n",
    "filename = 'Student.txt'  \n",
    "frequent_word = frequent_word(filename)\n",
    "print(f\"Number of words in '{filename}': {frequrnt_word}\")"
   ]
  },
  {
   "cell_type": "markdown",
   "metadata": {},
   "source": [
    "Q44. How can you use Python to count the number of rows in a CSV file?"
   ]
  },
  {
   "cell_type": "code",
   "execution_count": null,
   "metadata": {},
   "outputs": [],
   "source": [
    "import csv\n",
    "\n",
    "def count_csv_rows(filename):\n",
    "    with open(filename, 'r') as file:\n",
    "        csv_reader = csv.reader(file)\n",
    "        row_count = sum(1 for row in csv_reader)\n",
    "    return row_count\n",
    "\n",
    "\n",
    "filename = 'Student.csv'  \n",
    "row_count = count_csv_rows(filename)\n",
    "print(f\"Number of rows in '{filename}': {row_count}\")\n"
   ]
  },
  {
   "cell_type": "markdown",
   "metadata": {},
   "source": [
    "Q45. How can you use Python to calculate the average of a specific column in a CSV file?"
   ]
  },
  {
   "cell_type": "code",
   "execution_count": null,
   "metadata": {},
   "outputs": [],
   "source": [
    "import csv\n",
    "\n",
    "def calculate_column_average(filename, column_index):\n",
    "    with open(filename, 'r') as file:\n",
    "        csv_reader = csv.reader(file)\n",
    "        next(csv_reader) \n",
    "\n",
    "        column_values = []\n",
    "        for row in csv_reader:\n",
    "            if len(row) > column_index:\n",
    "                value = float(row[column_index])\n",
    "                column_values.append(value)\n",
    "\n",
    "        if column_values:\n",
    "            column_average = sum(column_values) / len(column_values)\n",
    "            return column_average\n",
    "        else:\n",
    "            return None\n",
    "\n",
    "\n",
    "filename = 'student.csv' \n",
    "column_index = 2  \n",
    "average = calculate_column_average(filename, column_index)\n",
    "if average is not None:\n",
    "    print(f\"Average of column {column_index} in '{filename}': {average}\")\n",
    "else:\n",
    "    print(f\"No values found in column {column_index} of '{filename}'\")\n"
   ]
  },
  {
   "cell_type": "markdown",
   "metadata": {},
   "source": [
    "Q46. Write a Python program to read a JSON file and print out the value of a specified key."
   ]
  },
  {
   "cell_type": "code",
   "execution_count": null,
   "metadata": {},
   "outputs": [],
   "source": [
    "import json\n",
    "\n",
    "def find_key_value(json_file, key):\n",
    "    with open(json_file, 'r') as file:\n",
    "        data = json.load(file)\n",
    "        value = data.get(key)\n",
    "    return value\n",
    "\n",
    "json_file = 'example.json'\n",
    "search_key = 'name'\n",
    "value = find_key_value(json_file, search_key)\n",
    "if value is not None:\n",
    "    print(f\"Value of '{search_key}': {value}\")\n",
    "else:\n",
    "    print(f\"Key '{search_key}' not found in '{json_file}'\")\n"
   ]
  },
  {
   "cell_type": "markdown",
   "metadata": {},
   "source": [
    "Q47. Can you provide a Python code snippet to write a list of strings into a text file where each\n",
    "string is\n",
    "written on a new line?"
   ]
  },
  {
   "cell_type": "code",
   "execution_count": null,
   "metadata": {},
   "outputs": [],
   "source": [
    "def write_list_to_file(strings, filename):\n",
    "    with open(filename, 'w') as file:\n",
    "        for string in strings:\n",
    "            file.write(string + '\\n')\n",
    "\n",
    "\n",
    "strings = ['Hello', 'World', 'Python']\n",
    "filename = 'output.txt'\n",
    "write_list_to_file(strings, filename)\n"
   ]
  },
  {
   "cell_type": "markdown",
   "metadata": {},
   "source": [
    "Q48. Can you provide a Python code to read a binary file and display the data in hexadecimal\n",
    "format."
   ]
  },
  {
   "cell_type": "code",
   "execution_count": null,
   "metadata": {},
   "outputs": [],
   "source": [
    "def read_binary_file(filename):\n",
    "    with open(filename, 'rb') as file:\n",
    "        data = file.read()\n",
    "    return data\n",
    "\n",
    "def display_hexadecimal_data(data):\n",
    "    hexadecimal_data = data.hex()\n",
    "    print(hexadecimal_data)\n",
    "\n",
    "filename = 'binary_file.bin' \n",
    "binary_data = read_binary_file(filename)\n",
    "display_hexadecimal_data(binary_data)\n"
   ]
  },
  {
   "cell_type": "markdown",
   "metadata": {},
   "source": [
    "Q49. Can you write a Python code to read a Comma-Separated Values (CSV) file, apply a\n",
    "specific condition\n",
    "to each row, and create a new CSV file that contains only the rows that satisfy the condition?\n",
    "For example,\n",
    "if the CSV file contains information about products and their prices, you may want to create a\n",
    "new CSV\n",
    "file that only includes the products that are within a certain price range. The program should be\n",
    "able to\n",
    "read the CSV file, compare the values in each row to the specified condition, and write the rows\n",
    "that meet\n",
    "the criteria to a new CSV file."
   ]
  },
  {
   "cell_type": "code",
   "execution_count": null,
   "metadata": {},
   "outputs": [],
   "source": [
    "import csv\n",
    "\n",
    "def filter_csv_by_condition(input_filename, output_filename, condition_column, condition_value):\n",
    "    with open(input_filename, 'r') as input_file, open(output_filename, 'w', newline='') as output_file:\n",
    "        csv_reader = csv.reader(input_file)\n",
    "        csv_writer = csv.writer(output_file)\n",
    "        \n",
    "        header = next(csv_reader)  \n",
    "        csv_writer.writerow(header) \n",
    "        \n",
    "        for row in csv_reader:\n",
    "            if len(row) > condition_column and row[condition_column] in condition_value:\n",
    "                csv_writer.writerow(row)\n",
    "\n",
    "input_filename = 'input.csv'  \n",
    "output_filename = 'output.csv' \n",
    "condition_column = 2 \n",
    "condition_value = range(10,30)\n",
    "\n",
    "filter_csv_by_condition(input_filename, output_filename, condition_column, condition_value)\n"
   ]
  },
  {
   "cell_type": "markdown",
   "metadata": {},
   "source": [
    "Q50. Write a Python program to read a text file, count the frequency of each word, and write the\n",
    "results to\n",
    "a new text file."
   ]
  },
  {
   "cell_type": "code",
   "execution_count": null,
   "metadata": {},
   "outputs": [],
   "source": [
    "import string\n",
    "\n",
    "def words_frequency(filename,output_file):\n",
    "    with open(filename, 'r') as file:\n",
    "        text = file.read()\n",
    "    \n",
    "        text = text.translate(str.maketrans('', '', string.punctuation))\n",
    "    \n",
    "        words = text.split()\n",
    "\n",
    "        words_set = set(words)\n",
    "        \n",
    "        with open(output_filename, 'w') as output_file:\n",
    "            for word in words_set:\n",
    "                print(f\"{word} : {word.count()}\\n\")\n",
    "\n",
    "\n",
    "filename = 'Student.txt'\n",
    "output_file = 'words_frquency'\n",
    "words_count_file = words_frequency(filename,output_file)\n"
   ]
  },
  {
   "cell_type": "markdown",
   "metadata": {},
   "source": [
    "Q51. Write a program that prints the first 10 even numbers using a for loop."
   ]
  },
  {
   "cell_type": "code",
   "execution_count": 3,
   "metadata": {},
   "outputs": [
    {
     "name": "stdout",
     "output_type": "stream",
     "text": [
      "First 20 even numbers : 2 4 6 8 10 12 14 16 18 20 22 24 26 28 30 32 34 36 38 40 "
     ]
    }
   ],
   "source": [
    "def even(num):\n",
    "\n",
    "    print(f\"First {num} even numbers : \",end = '')\n",
    "    \n",
    "    i = 1\n",
    "\n",
    "    while i <= num :\n",
    "\n",
    "        print(i * 2, end = ' ')\n",
    "\n",
    "        i += 1\n",
    "\n",
    "num = int(input(\"Enter number to print first number of even numbers : \"))\n",
    "\n",
    "even(num)"
   ]
  },
  {
   "cell_type": "markdown",
   "metadata": {},
   "source": [
    "Q52. Write a program that takes a list of strings and prints out each string in reverse order using\n",
    "a for loop."
   ]
  },
  {
   "cell_type": "code",
   "execution_count": 4,
   "metadata": {},
   "outputs": [
    {
     "name": "stdout",
     "output_type": "stream",
     "text": [
      "htarahB\n",
      "htarahS\n"
     ]
    }
   ],
   "source": [
    "def reverse_str(list_of_str):\n",
    "\n",
    "    for str in list_of_str :\n",
    "        print(str[::-1])\n",
    "\n",
    "list = [\"Bharath\",\"Sharath\"]\n",
    "\n",
    "reverse_str(list)"
   ]
  },
  {
   "cell_type": "markdown",
   "metadata": {},
   "source": [
    "Q53. Write a program that prints the multiplication table of a given number using a for loop."
   ]
  },
  {
   "cell_type": "code",
   "execution_count": 5,
   "metadata": {},
   "outputs": [
    {
     "name": "stdout",
     "output_type": "stream",
     "text": [
      "6 x 1 = 6\n",
      "6 x 2 = 12\n",
      "6 x 3 = 18\n",
      "6 x 4 = 24\n",
      "6 x 5 = 30\n",
      "6 x 6 = 36\n",
      "6 x 7 = 42\n",
      "6 x 8 = 48\n",
      "6 x 9 = 54\n",
      "6 x 10 = 60\n"
     ]
    }
   ],
   "source": [
    "def Multiplication_Table(num):\n",
    "\n",
    "    for i in range(1,11):\n",
    "        print(f\"{num} x {i} = {num * i}\")\n",
    "\n",
    "num = int(input(\"Enter nuber to print multiplication table : \"))\n",
    "\n",
    "Multiplication_Table(num)"
   ]
  },
  {
   "cell_type": "markdown",
   "metadata": {},
   "source": [
    "Q54. Write a program that takes a list of integers as input and returns the sum of all the\n",
    "numbers in the list\n",
    "using a for loop."
   ]
  },
  {
   "cell_type": "code",
   "execution_count": 1,
   "metadata": {},
   "outputs": [
    {
     "name": "stdout",
     "output_type": "stream",
     "text": [
      "Sum of nubers in list <class 'list'> is 28.\n"
     ]
    }
   ],
   "source": [
    "def sum_of_list(seq):\n",
    "\n",
    "    sum = 0\n",
    "\n",
    "    for num in seq:\n",
    "\n",
    "        sum += num\n",
    "\n",
    "    return f\"Sum of nubers in list {list} is {sum}.\"\n",
    "\n",
    "num_list = [1,2,3,4,5,6,7]\n",
    "\n",
    "print(sum_of_list(num_list))"
   ]
  },
  {
   "cell_type": "markdown",
   "metadata": {},
   "source": [
    "Q55. Write a program that prompts the user for a positive integer and then prints out all the\n",
    "prime\n",
    "numbers up to that number using a for loop."
   ]
  },
  {
   "cell_type": "code",
   "execution_count": 27,
   "metadata": {},
   "outputs": [
    {
     "name": "stdout",
     "output_type": "stream",
     "text": [
      "Prime numbers upto 50 : 2 3 5 7 11 13 17 19 23 29 31 37 41 43 47 "
     ]
    }
   ],
   "source": [
    "def is_prime(n):\n",
    "    if n <= 1:\n",
    "        return False\n",
    "    for i in range(2, int(n**0.5) + 1):\n",
    "        if n % i == 0:\n",
    "            return False\n",
    "    return True\n",
    "\n",
    "\n",
    "def print_prime_numbers(limit):\n",
    "\n",
    "    print(f\"Prime numbers upto {limit} : \",end='')\n",
    "\n",
    "    for num in range(limit + 1):\n",
    "        if is_prime(num):\n",
    "            print(num,end=' ')\n",
    "\n",
    "num = int(input(\"Enter number to print prime numbers upto that : \"))\n",
    "\n",
    "print_prime_numbers(num)"
   ]
  },
  {
   "cell_type": "markdown",
   "metadata": {},
   "source": [
    "Q56. Write a program that prompts the user to enter a password until the correct password is\n",
    "entered\n",
    "using a while loop."
   ]
  },
  {
   "cell_type": "code",
   "execution_count": 3,
   "metadata": {},
   "outputs": [
    {
     "name": "stdout",
     "output_type": "stream",
     "text": [
      "Incorrect password. Try again.\n",
      "Access granted!\n"
     ]
    }
   ],
   "source": [
    "correct_password = \"password123\"\n",
    "\n",
    "while True :\n",
    "    password = input(\"Enter password : \")\n",
    "\n",
    "    if password == correct_password:\n",
    "        print(\"Access granted!\")\n",
    "        break\n",
    "    else:\n",
    "        print('Incorrect password. Try again.')\n"
   ]
  },
  {
   "cell_type": "markdown",
   "metadata": {},
   "source": [
    "Q57. Write a program that takes a list of strings and prints out each string in reverse order using\n",
    "a while\n",
    "loop."
   ]
  },
  {
   "cell_type": "code",
   "execution_count": 2,
   "metadata": {},
   "outputs": [
    {
     "name": "stdout",
     "output_type": "stream",
     "text": [
      "htarahB\n",
      "htarahB\n"
     ]
    }
   ],
   "source": [
    "def reverse_str(list_of_str):\n",
    "\n",
    "    i = 0 \n",
    "\n",
    "    while i < len(list_of_str):\n",
    "\n",
    "        print(list_of_str[0][::-1])\n",
    "\n",
    "        i += 1\n",
    "\n",
    "list = [\"Bharath\",\"Sharath\"]\n",
    "\n",
    "reverse_str(list)"
   ]
  },
  {
   "cell_type": "markdown",
   "metadata": {},
   "source": [
    "Q58. Write a program that prompts the user to enter a positive integer and then prints out all the\n",
    "Fibonacci\n",
    "numbers up to that number using a while loop."
   ]
  },
  {
   "cell_type": "code",
   "execution_count": 5,
   "metadata": {},
   "outputs": [
    {
     "name": "stdout",
     "output_type": "stream",
     "text": [
      "0\n",
      "1\n",
      "1\n",
      "2\n",
      "3\n",
      "5\n",
      "8\n",
      "13\n",
      "21\n",
      "34\n",
      "55\n",
      "None\n"
     ]
    }
   ],
   "source": [
    "def fabonacci(num):\n",
    "\n",
    "    a = 0\n",
    "    b  = 1\n",
    "\n",
    "    i = 0\n",
    "    while i <= num :\n",
    "\n",
    "        print(i)\n",
    "\n",
    "        a = b\n",
    "        b = i\n",
    "        i = a + b\n",
    "\n",
    "num = int(input(\"Enter a positive integer and then prints out all the Fibonacci numbers up to that number : \"))\n",
    "\n",
    "print(fabonacci(num))"
   ]
  },
  {
   "cell_type": "markdown",
   "metadata": {},
   "source": [
    "Q59. Write a program that takes a list of integers as input and returns the product of all the\n",
    "numbers in the\n",
    "list using a while loop."
   ]
  },
  {
   "cell_type": "code",
   "execution_count": 40,
   "metadata": {},
   "outputs": [
    {
     "name": "stdout",
     "output_type": "stream",
     "text": [
      "Product of all the numbers in the list [1, 2, 3, 4, 5, 6, 7, 8, 9] is 362880\n"
     ]
    }
   ],
   "source": [
    "def product_of_list(seq):\n",
    "\n",
    "    product = 1\n",
    "\n",
    "    i = 0 \n",
    "    while i < len(seq) :\n",
    "        product *= seq[i]\n",
    "        i += 1\n",
    "\n",
    "    return f\"Product of all the numbers in the list {seq} is {product}\"\n",
    "\n",
    "seq = [1,2,3,4,5,6,7,8,9]\n",
    "print(product_of_list(seq))"
   ]
  },
  {
   "cell_type": "markdown",
   "metadata": {},
   "source": [
    "Q60. Write a program that prompts the user to enter a positive integer and then prints out the\n",
    "factorial of\n",
    "that number using a while loop."
   ]
  },
  {
   "cell_type": "code",
   "execution_count": 43,
   "metadata": {},
   "outputs": [
    {
     "name": "stdout",
     "output_type": "stream",
     "text": [
      "5! = 120\n"
     ]
    }
   ],
   "source": [
    "def factorial(num):\n",
    "\n",
    "    factorial = 1\n",
    "\n",
    "    i = 1 \n",
    "    while i <= num :\n",
    "        factorial *= i\n",
    "\n",
    "        i += 1\n",
    "\n",
    "    return f\"{num}! = {factorial}\"\n",
    "\n",
    "num = int(input(\"Enter number to get factorial of it : \"))\n",
    "\n",
    "print(factorial(num))"
   ]
  },
  {
   "cell_type": "markdown",
   "metadata": {},
   "source": [
    "Q61. Write a program that spawns two threads. One thread should print even numbers between\n",
    "0 and 10,\n",
    "and the other thread should print odd numbers between 1 and 9."
   ]
  },
  {
   "cell_type": "code",
   "execution_count": 44,
   "metadata": {},
   "outputs": [
    {
     "name": "stdout",
     "output_type": "stream",
     "text": [
      "Even thread:Odd thread: 1\n",
      "Odd thread: 3\n",
      "Odd thread: 5\n",
      "Odd thread: 7\n",
      "Odd thread: 9\n",
      " 0\n",
      "Even thread: 2\n",
      "Even thread: 4\n",
      "Even thread: 6\n",
      "Even thread: 8\n",
      "Even thread: 10\n",
      "Done\n"
     ]
    }
   ],
   "source": [
    "import threading\n",
    "\n",
    "def print_even():\n",
    "    for num in range(0, 11, 2):\n",
    "        print(\"Even thread:\", num)\n",
    "\n",
    "def print_odd():\n",
    "    for num in range(1, 10, 2):\n",
    "        print(\"Odd thread:\", num)\n",
    "\n",
    "even_thread = threading.Thread(target=print_even)\n",
    "odd_thread = threading.Thread(target=print_odd)\n",
    "\n",
    "even_thread.start()\n",
    "odd_thread.start()\n",
    "\n",
    "even_thread.join()\n",
    "odd_thread.join()\n",
    "\n",
    "print(\"Done\")\n"
   ]
  },
  {
   "cell_type": "markdown",
   "metadata": {},
   "source": [
    "Q62. Write a program that generates a list of random numbers and sorts them using\n",
    "multithreading. Use\n",
    "two threads to sort the first half and the second half of the list in parallel."
   ]
  },
  {
   "cell_type": "code",
   "execution_count": null,
   "metadata": {},
   "outputs": [],
   "source": [
    "import random\n",
    "import threading\n",
    "\n",
    "def merge_sort(nums):\n",
    "    if len(nums) <= 1:\n",
    "        return nums\n",
    "\n",
    "    mid = len(nums) // 2\n",
    "    left_half = nums[:mid]\n",
    "    right_half = nums[mid:]\n",
    "\n",
    "    left_thread = threading.Thread(target=merge_sort, args=(left_half,))\n",
    "    left_thread.start()\n",
    "\n",
    "    right_half = merge_sort(right_half)\n",
    "\n",
    "    left_thread.join()\n",
    "\n",
    "    return merge(left_half, right_half)\n",
    "\n",
    "def merge(left, right):\n",
    "    merged = []\n",
    "    left_index = 0\n",
    "    right_index = 0\n",
    "\n",
    "    while left_index < len(left) and right_index < len(right):\n",
    "        if left[left_index] < right[right_index]:\n",
    "            merged.append(left[left_index])\n",
    "            left_index += 1\n",
    "        else:\n",
    "            merged.append(right[right_index])\n",
    "            right_index += 1\n",
    "\n",
    "    merged += left[left_index:]\n",
    "    merged += right[right_index:]\n",
    "\n",
    "    return merged\n",
    "\n",
    "random_nums = [random.randint(1, 100) for _ in range(10)]\n",
    "\n",
    "print(\"Original list:\", random_nums)\n",
    "\n",
    "sorted_nums = merge_sort(random_nums)\n",
    "\n",
    "print(\"Sorted list:\", sorted_nums)\n"
   ]
  },
  {
   "cell_type": "markdown",
   "metadata": {},
   "source": [
    "Q63. Write a program that simulates a bank account transaction. The program should create\n",
    "two threads,\n",
    "one for a deposit and one for a withdrawal. The deposit thread should add\n",
    "100 to the account,and the withdrawal thread should withdraw\n",
    "50 from the account. Run the program for 10 iterations."
   ]
  },
  {
   "cell_type": "code",
   "execution_count": 2,
   "metadata": {},
   "outputs": [
    {
     "name": "stdout",
     "output_type": "stream",
     "text": [
      "Withdrawal: 50 rs withdrawn from the account. Balance: 950\n",
      "Withdrawal: 50 rs withdrawn from the account. Balance: 900\n",
      "Withdrawal: 50 rs withdrawn from the account. Balance: 850\n",
      "Withdrawal: 50 rs withdrawn from the account. Balance: 800\n",
      "Withdrawal: 50 rs withdrawn from the account. Balance: 750\n",
      "Withdrawal: 50 rs withdrawn from the account. Balance: 700\n",
      "Withdrawal: 50 rs withdrawn from the account. Balance: 650\n",
      "Withdrawal: 50 rs withdrawn from the account. Balance: 600\n",
      "Withdrawal: 50 rs withdrawn from the account. Balance: 550\n",
      "Withdrawal: 50 rs withdrawn from the account. Balance: 500\n",
      "Final Balance: 500\n"
     ]
    }
   ],
   "source": [
    "import threading\n",
    "\n",
    "Lock = threading.Lock()\n",
    "balance = 0\n",
    "\n",
    "def Deposit():\n",
    "    global balance\n",
    "\n",
    "    for _ in range(10):\n",
    "        Lock.acquire()\n",
    "\n",
    "        balance += 100\n",
    "\n",
    "        Lock.release()\n",
    "\n",
    "def Withdraw():\n",
    "    global balance\n",
    "\n",
    "    for _ in range(10):\n",
    "        Lock.acquire()\n",
    "\n",
    "        if balance >= 50 :\n",
    "            balance -= 50\n",
    "            print(\"Withdrawal: 50 rs withdrawn from the account. Balance:\", balance)\n",
    "        else:\n",
    "            print(\"Withdrawal: Insufficient funds. Balance:\", balance)\n",
    "        \n",
    "        Lock.release()\n",
    "\n",
    "Deposit_thread = threading.Thread(target=Deposit)\n",
    "Withdraw_thread = threading.Thread(target=Withdraw)\n",
    "\n",
    "Deposit_thread.start()\n",
    "Withdraw_thread.start()\n",
    "\n",
    "Deposit_thread.join()\n",
    "Withdraw_thread.join()\n",
    "\n",
    "print(\"Final Balance:\", balance)"
   ]
  },
  {
   "cell_type": "markdown",
   "metadata": {},
   "source": [
    "Q64. Write a Python program that creates a thread to print out the current date and time every 5\n",
    "seconds.\n",
    "The program should continue running until the user presses the 'q' key."
   ]
  },
  {
   "cell_type": "code",
   "execution_count": null,
   "metadata": {},
   "outputs": [],
   "source": [
    "import threading\n",
    "import time\n",
    "\n",
    "def print_time(thread_name):\n",
    "    while True:\n",
    "        print(time.strftime(\"%H:%M:%S\", time.localtime()))\n",
    "        time.sleep(5)\n",
    "\n",
    "def main():\n",
    "    thread = threading.Thread(target=print_time, args=(\"Print time\",))\n",
    "    thread.daemon = True\n",
    "    thread.start()\n",
    "\n",
    "    while True:\n",
    "        char = input()\n",
    "        if char == \"q\":\n",
    "            break\n",
    "\n",
    "if __name__ == \"__main__\":\n",
    "    main()\n"
   ]
  },
  {
   "cell_type": "markdown",
   "metadata": {},
   "source": [
    "Q65. Write a Python program that creates two threads. Each thread should print out the\n",
    "numbers from 1 to\n",
    "10. The two threads should run concurrently and print out the numbers in an interleaved\n",
    "fashion."
   ]
  },
  {
   "cell_type": "code",
   "execution_count": 2,
   "metadata": {},
   "outputs": [
    {
     "name": "stdout",
     "output_type": "stream",
     "text": [
      "Thread-7 (print_numbers) :  1\n",
      "Thread-7 (print_numbers) :  2\n",
      "Thread-7 (print_numbers) :  3\n",
      "Thread-7 (print_numbers) :  4\n",
      "Thread-7 (print_numbers) :  5\n",
      "Thread-7 (print_numbers) :  6\n",
      "Thread-7 (print_numbers) :  7\n",
      "Thread-7 (print_numbers) :  8\n",
      "Thread-7 (print_numbers) :  9\n",
      "Thread-7 (print_numbers) :  10\n",
      "Thread-8 (print_numbers) :  1\n",
      "Thread-8 (print_numbers) :  2\n",
      "Thread-8 (print_numbers) :  3\n",
      "Thread-8 (print_numbers) :  4\n",
      "Thread-8 (print_numbers) :  5\n",
      "Thread-8 (print_numbers) :  6\n",
      "Thread-8 (print_numbers) :  7\n",
      "Thread-8 (print_numbers) :  8\n",
      "Thread-8 (print_numbers) :  9\n",
      "Thread-8 (print_numbers) :  10\n"
     ]
    },
    {
     "name": "stderr",
     "output_type": "stream",
     "text": [
      "C:\\Users\\bhara\\AppData\\Local\\Temp\\ipykernel_5532\\1755425446.py:5: DeprecationWarning: getName() is deprecated, get the name attribute instead\n",
      "  print(threading.current_thread().getName(), \": \", num)\n"
     ]
    }
   ],
   "source": [
    "import threading\n",
    "\n",
    "def print_numbers():\n",
    "    for num in range(1, 11):\n",
    "        print(threading.current_thread().getName(), \": \", num)\n",
    "\n",
    "thread1 = threading.Thread(target=print_numbers)\n",
    "thread2 = threading.Thread(target=print_numbers)\n",
    "\n",
    "thread1.start()\n",
    "thread2.start()\n",
    "\n",
    "thread1.join()\n",
    "thread2.join()"
   ]
  },
  {
   "cell_type": "markdown",
   "metadata": {},
   "source": [
    "Q66. Write a Python program to create a shared variable between two threads and increment its\n",
    "value in\n",
    "each thread."
   ]
  },
  {
   "cell_type": "code",
   "execution_count": 5,
   "metadata": {},
   "outputs": [
    {
     "name": "stdout",
     "output_type": "stream",
     "text": [
      "Final value of shared_var =  2000\n",
      "Progrm finished\n"
     ]
    }
   ],
   "source": [
    "import threading\n",
    "\n",
    "Lock = threading.Lock()\n",
    "\n",
    "shared_var = 0\n",
    "\n",
    "def increment_shared_var():\n",
    "\n",
    "    global shared_var\n",
    "\n",
    "    for _ in range(1000):\n",
    "        Lock.acquire()\n",
    "        shared_var += 1\n",
    "        Lock.release()\n",
    "thread1 = threading.Thread(target=increment_shared_var)\n",
    "thread2 = threading.Thread(target=increment_shared_var)\n",
    "\n",
    "thread1.start()\n",
    "thread2.start()\n",
    "\n",
    "thread1.join()\n",
    "thread2.join()\n",
    "\n",
    "\n",
    "print(\"Final value of shared_var = \",shared_var)\n",
    "print(\"Progrm finished\")"
   ]
  },
  {
   "cell_type": "markdown",
   "metadata": {},
   "source": [
    "Q67. Here's a Python program that creates a thread to count down from 5 to 0 and prints\n",
    "\"Blastoff!\" when\n",
    "the count reaches 0:"
   ]
  },
  {
   "cell_type": "code",
   "execution_count": 12,
   "metadata": {},
   "outputs": [
    {
     "name": "stdout",
     "output_type": "stream",
     "text": [
      "Blastoff!\n",
      "Time over\n"
     ]
    }
   ],
   "source": [
    "import threading\n",
    "import time\n",
    "\n",
    "def count():\n",
    "\n",
    "    for i in range(5,0,-1):\n",
    "        time.sleep(1)\n",
    "        if i == 1 :\n",
    "            print(\"Blastoff!\")\n",
    "\n",
    "thread = threading.Thread(target=count())\n",
    "\n",
    "thread.start()\n",
    "\n",
    "thread.join()\n",
    "\n",
    "print(\"Time over\")"
   ]
  },
  {
   "cell_type": "markdown",
   "metadata": {},
   "source": [
    "\n",
    "Q68. Write a program that creates a thread to print the Fibonacci sequence up to a certain\n",
    "number n. The\n",
    "main thread should prompt the user for the value of n."
   ]
  },
  {
   "cell_type": "code",
   "execution_count": 16,
   "metadata": {},
   "outputs": [
    {
     "name": "stdout",
     "output_type": "stream",
     "text": [
      "Fibonacci series : 0 1 1 2 3 5 8 "
     ]
    }
   ],
   "source": [
    "import threading\n",
    "\n",
    "def fibonacci(num):\n",
    "    print(\"Fibonacci series : \",end='')\n",
    "    a = 0\n",
    "    b = 1\n",
    "    i = 0\n",
    "    while i <= num :\n",
    "        print(i, end=' ')\n",
    "        a = b\n",
    "        b = i\n",
    "        i = a + b\n",
    "\n",
    "def main():\n",
    "    num = int(input(\"Enter the number : \"))\n",
    "    thread = threading.Thread(target=fibonacci, args=(num,))\n",
    "\n",
    "    thread.start()\n",
    "\n",
    "if __name__ == \"__main__\" :\n",
    "    main()"
   ]
  },
  {
   "cell_type": "markdown",
   "metadata": {},
   "source": [
    "Q69. Write a program that creates two threads to add and subtract numbers from a shared\n",
    "variable. The\n",
    "shared variable should start at 0, and each thread should perform 10 iterations of adding or\n",
    "subtracting a\n",
    "random integer between 1 and 10. The program should print the final value of the shared\n",
    "variable."
   ]
  },
  {
   "cell_type": "code",
   "execution_count": 20,
   "metadata": {},
   "outputs": [
    {
     "name": "stdout",
     "output_type": "stream",
     "text": [
      "Finally shared_variable =  -5\n",
      "Program Finished\n"
     ]
    }
   ],
   "source": [
    "import threading\n",
    "import random\n",
    "\n",
    "Lock = threading.Lock()\n",
    "shared_var = 0\n",
    "\n",
    "def add():\n",
    "\n",
    "    for _ in range(10):\n",
    "        global shared_var\n",
    "        rand_num = random.randint(1,10)\n",
    "\n",
    "        Lock.acquire()\n",
    "        shared_var += rand_num\n",
    "        Lock.release()\n",
    "\n",
    "def sub():\n",
    "\n",
    "    for _ in range(10):\n",
    "        global shared_var\n",
    "        rand_num = random.randint(1,10)\n",
    "\n",
    "        Lock.acquire()\n",
    "        shared_var -= rand_num\n",
    "        Lock.release()\n",
    "\n",
    "def main():\n",
    "    thread1 = threading.Thread(target=add)\n",
    "    thread2 = threading.Thread(target=sub)\n",
    "\n",
    "    thread1.start()\n",
    "    thread2.start()\n",
    "\n",
    "if __name__ == \"__main__\":\n",
    "    main()\n",
    "\n",
    "print(\"Finally shared_variable = \",shared_var)\n",
    "print(\"Program Finished\")"
   ]
  },
  {
   "cell_type": "markdown",
   "metadata": {},
   "source": [
    "Q70. Write a program that creates a thread to calculate the sum of the numbers from 1 to 100\n",
    "and prints the result."
   ]
  },
  {
   "cell_type": "code",
   "execution_count": 22,
   "metadata": {},
   "outputs": [
    {
     "name": "stdout",
     "output_type": "stream",
     "text": [
      "Sum of from 1 to 100 is 5050.0\n"
     ]
    }
   ],
   "source": [
    "import threading\n",
    "\n",
    "def sum_of_num(n):\n",
    "\n",
    "    sum = n * (n + 1) / 2\n",
    "\n",
    "    print(f\"Sum of from 1 to {n} is {sum}\")\n",
    "\n",
    "def main():\n",
    "    n = int(input(\"Enter the number : \"))\n",
    "    thread = threading.Thread(target=sum_of_num,args=(n,))\n",
    "\n",
    "    thread.start()\n",
    "\n",
    "if __name__ == \"__main__\" :\n",
    "    main()"
   ]
  },
  {
   "cell_type": "markdown",
   "metadata": {},
   "source": [
    "Q71.Write a Python program to create two processes that print out the numbers from 1 to 10\n",
    "simultaneously."
   ]
  },
  {
   "cell_type": "code",
   "execution_count": null,
   "metadata": {},
   "outputs": [],
   "source": [
    "import multiprocessing\n",
    "\n",
    "def print_numbers(start, end):\n",
    "    for num in range(start, end+1):\n",
    "        print(num)\n",
    "\n",
    "if __name__ == '__main__':\n",
    "    process1 = multiprocessing.Process(target=print_numbers, args=(1, 10))\n",
    "    process2 = multiprocessing.Process(target=print_numbers, args=(1, 10))\n",
    "\n",
    "    process1.start()\n",
    "    process2.start()\n",
    "\n",
    "    process1.join()\n",
    "    process2.join()\n",
    "\n",
    "    print(\"Both processes finished\")"
   ]
  },
  {
   "cell_type": "markdown",
   "metadata": {},
   "source": [
    "Q72.Write a Python program that creates four processes and computes the sum of the first\n",
    "1000 integers using multiprocessing"
   ]
  },
  {
   "cell_type": "code",
   "execution_count": null,
   "metadata": {},
   "outputs": [],
   "source": [
    "import multiprocessing\n",
    "\n",
    "# Function to calculate the sum of numbers from start to end\n",
    "def calculate_sum(start, end, result):\n",
    "    total = sum(range(start, end+1))\n",
    "    result.value += total\n",
    "\n",
    "if __name__ == '__main__':\n",
    "    # Number of processes\n",
    "    num_processes = 4\n",
    "\n",
    "    # Range of numbers to calculate the sum\n",
    "    start = 1\n",
    "    end = 1000\n",
    "\n",
    "    # Shared value to store the final result\n",
    "    result = multiprocessing.Value('i', 0)\n",
    "\n",
    "    # List to store the process objects\n",
    "    processes = []\n",
    "\n",
    "    # Create and start the processes\n",
    "    for i in range(4):\n",
    "        process_start = start + i * 250\n",
    "        process_end = start + (i + 1) * 250 - 1\n",
    "\n",
    "        process = multiprocessing.Process(target=calculate_sum, args=(process_start, process_end, result))\n",
    "        processes.append(process)\n",
    "        process.start()\n",
    "\n",
    "    # Wait for the processes to finish\n",
    "    for process in processes:\n",
    "        process.join()\n",
    "\n",
    "    # Print the final result\n",
    "    print(\"Sum of the first 1000 integers:\", result.value)\n"
   ]
  },
  {
   "cell_type": "markdown",
   "metadata": {},
   "source": [
    "Q73.Write a Python program that creates two processes and communicates between them\n",
    "using a Queue. The first process should send a list of numbers to the second process, which\n",
    "should calculate the sum of the numbers and send it back to the first process."
   ]
  },
  {
   "cell_type": "code",
   "execution_count": 29,
   "metadata": {},
   "outputs": [],
   "source": [
    "import multiprocessing\n",
    "import random\n",
    "\n",
    "def sum_of_numbers(numbers):\n",
    "  sum = 0\n",
    "  for number in numbers:\n",
    "    sum += number\n",
    "  return sum\n",
    "\n",
    "def main():\n",
    "  # Create a queue\n",
    "  queue = multiprocessing.Queue()\n",
    "\n",
    "  # Create the first process\n",
    "  process1 = multiprocessing.Process(target=send_numbers, args=(queue,))\n",
    "\n",
    "  # Create the second process\n",
    "  process2 = multiprocessing.Process(target=calculate_sum, args=(queue,))\n",
    "\n",
    "  # Start the processes\n",
    "  process1.start()\n",
    "  process2.start()\n",
    "\n",
    "  # Wait for the processes to finish\n",
    "  process1.join()\n",
    "  process2.join()\n",
    "\n",
    "  # Get the sum of the numbers\n",
    "  sum = queue.get()\n",
    "\n",
    "  print(\"The sum of the numbers is:\", sum)\n",
    "\n",
    "def send_numbers(queue):\n",
    "  # Generate a list of numbers\n",
    "  numbers = [random.randint(1, 100) for _ in range(10)]\n",
    "\n",
    "  # Send the list of numbers to the queue\n",
    "  queue.put(numbers)\n",
    "\n",
    "def calculate_sum(queue):\n",
    "  # Get the list of numbers from the queue\n",
    "  numbers = queue.get()\n",
    "\n",
    "  # Calculate the sum of the numbers\n",
    "  sum = sum_of_numbers(numbers)\n",
    "\n",
    "  # Send the sum back to the queue\n",
    "  queue.put(sum)\n",
    "\n",
    "if __name__ == \"__main__\":\n",
    "  main()\n"
   ]
  },
  {
   "cell_type": "markdown",
   "metadata": {},
   "source": [
    "Q74.Write a program to find the maximum number in a list of lists using multiprocessing.\n"
   ]
  },
  {
   "cell_type": "code",
   "execution_count": 4,
   "metadata": {},
   "outputs": [
    {
     "name": "stdout",
     "output_type": "stream",
     "text": [
      "The maximum number is: 12\n"
     ]
    }
   ],
   "source": [
    "import multiprocessing\n",
    "\n",
    "def find_max(sublist):\n",
    "    return max(sublist)\n",
    "\n",
    "def find_max_parallel(numbers):\n",
    "    pool = multiprocessing.Pool()\n",
    "    results = pool.map(find_max, numbers)\n",
    "    pool.close()\n",
    "    pool.join()\n",
    "    return max(results)\n",
    "\n",
    "if __name__ == '__main__':\n",
    "    number_list = [[1, 2, 3], [4, 5, 6], [7, 8, 9], [10, 11, 12]]\n",
    "    max_number = find_max_parallel(number_list)\n",
    "    print(\"The maximum number is:\", max_number)\n"
   ]
  },
  {
   "cell_type": "markdown",
   "metadata": {},
   "source": [
    "Q75.Write a Python program that uses the Pool class from the multiprocessing module to\n",
    "calculate the squares of a list of integers."
   ]
  },
  {
   "cell_type": "code",
   "execution_count": 5,
   "metadata": {},
   "outputs": [
    {
     "name": "stdout",
     "output_type": "stream",
     "text": [
      "Original numbers: [1, 2, 3, 4, 5, 6, 7, 8, 9, 10]\n",
      "Squared numbers: [1, 4, 9, 16, 25, 36, 49, 64, 81, 100]\n"
     ]
    }
   ],
   "source": [
    "import multiprocessing\n",
    "\n",
    "def calculate_square(n):\n",
    "    return n * n\n",
    "\n",
    "if __name__ == '__main__':\n",
    "    numbers = [1, 2, 3, 4, 5, 6, 7, 8, 9, 10]\n",
    "\n",
    "    with multiprocessing.Pool() as pool:\n",
    "        results = pool.map(calculate_square, numbers)\n",
    "\n",
    "    print(\"Original numbers:\", numbers)\n",
    "    print(\"Squared numbers:\", results)\n"
   ]
  },
  {
   "cell_type": "markdown",
   "metadata": {},
   "source": [
    "Q76.How do you create a new process using the multiprocessing module in Python?"
   ]
  },
  {
   "cell_type": "markdown",
   "metadata": {},
   "source": [
    "Steps to create a new process using the multiprocessing module in Python :\n",
    "1. Import the multiprocessing module.\n",
    "2. Define a function that will be executed in the new process. This function should contain the code you want to run in the separate process.\n",
    "3. Create a Process object, passing the function to be executed as the target. You can also provide any necessary arguments to the function.\n",
    "4. Start the process using the start() method.\n",
    "5. Wait for the process to finish executing using the join() method. This will block the main process until the new process completes."
   ]
  },
  {
   "cell_type": "markdown",
   "metadata": {},
   "source": [
    "Q77.How do you use a Pool to execute a function with multiple arguments in parallel?"
   ]
  },
  {
   "cell_type": "markdown",
   "metadata": {},
   "source": [
    "steps to use a Pool to execute a function with multiple arguments in parallel:\n",
    "1.  Import the multiprocessing module.\n",
    "2. Create a Pool object with the desired number of workers.\n",
    "3. Pass the function to be executed and the arguments to the Pool.map() method.\n",
    "4. The Pool.map() method will execute the function in parallel and return the results.\n",
    "\n",
    "> Here are some additional things to keep in mind when using a Pool to execute a function with multiple arguments in parallel:\n",
    "\n",
    "- The arguments to the function must be serializable. This means that they must be able to be converted into a format that can be transferred between processes.\n",
    "- The function must be thread-safe. This means that it must be able to be executed by multiple threads without interfering with each other.\n",
    "- The function must not modify any global variables. This is because the Pool object will create a separate copy of each global variable for each worker.\n"
   ]
  },
  {
   "cell_type": "markdown",
   "metadata": {},
   "source": [
    "\n",
    "Q78.Write a Python program to calculate the sum of squares of numbers in a list using\n",
    "multiprocessing."
   ]
  },
  {
   "cell_type": "code",
   "execution_count": null,
   "metadata": {},
   "outputs": [],
   "source": [
    "import multiprocessing\n",
    "\n",
    "def calculate_square(number):\n",
    "    return number ** 2\n",
    "\n",
    "def calculate_sum_of_squares(numbers):\n",
    "    pool = multiprocessing.Pool()\n",
    "    results = pool.map(calculate_square, numbers)\n",
    "    pool.close()\n",
    "    pool.join()\n",
    "    return sum(results)\n",
    "\n",
    "numbers = [1, 2, 3, 4, 5]\n",
    "result = calculate_sum_of_squares(numbers)\n",
    "print(f\"Sum of squares: {result}\")\n"
   ]
  },
  {
   "cell_type": "markdown",
   "metadata": {},
   "source": [
    "\n",
    "Q79.Write a Python program that uses the multiprocessing module to calculate the sum of a\n",
    "large list of integers."
   ]
  },
  {
   "cell_type": "code",
   "execution_count": null,
   "metadata": {},
   "outputs": [],
   "source": [
    "import multiprocessing\n",
    "\n",
    "def calculate_sum(numbers):\n",
    "    return sum(numbers)\n",
    "\n",
    "def calculate_sum_parallel(numbers, num_processes):\n",
    "    chunk_size = len(numbers) // num_processes\n",
    "\n",
    "    pool = multiprocessing.Pool(processes=num_processes)\n",
    "    results = pool.map(calculate_sum, [numbers[i:i+chunk_size] for i in range(0, len(numbers), chunk_size)])\n",
    "    pool.close()\n",
    "    pool.join()\n",
    "\n",
    "    return sum(results)\n",
    "\n",
    "numbers = list(range(1, 1000001))  \n",
    "num_processes = 100 \n",
    "\n",
    "result = calculate_sum_parallel(numbers, num_processes)\n",
    "print(f\"Sum of numbers: {result}\")\n"
   ]
  },
  {
   "cell_type": "markdown",
   "metadata": {},
   "source": [
    "Q80.Write a Python program that uses the multiprocessing module to parallelize the\n",
    "computation of the factorial of a number."
   ]
  },
  {
   "cell_type": "code",
   "execution_count": null,
   "metadata": {},
   "outputs": [],
   "source": [
    "import multiprocessing\n",
    "from math import factorial\n",
    "\n",
    "def calculate_factorial(number):\n",
    "    return factorial(number)\n",
    "\n",
    "def calculate_factorial_parallel(number, num_processes):\n",
    "    chunk_size = number // num_processes\n",
    "\n",
    "    pool = multiprocessing.Pool(processes=num_processes)\n",
    "    results = pool.map(calculate_factorial, range(1, number+1, chunk_size))\n",
    "    pool.close()\n",
    "    pool.join()\n",
    "\n",
    "    return results\n",
    "\n",
    "# Example usage\n",
    "number = 10  # The number for which factorial needs to be calculated\n",
    "num_processes = multiprocessing.cpu_count()  # Use the number of available CPU cores\n",
    "\n",
    "factorial_results = calculate_factorial_parallel(number, num_processes)\n",
    "final_result = factorial(factorial_results[-1])\n",
    "print(f\"Factorial of {number}: {final_result}\")\n"
   ]
  },
  {
   "cell_type": "markdown",
   "metadata": {},
   "source": [
    "Q81.Write a Python program that prompts the user for two integers and divides the first integer\n",
    "by the second integer. If the either variable are none integer then print the value error and\n",
    "second integer is zero, catch the ZeroDivisionError and print an error message to the user."
   ]
  },
  {
   "cell_type": "code",
   "execution_count": 4,
   "metadata": {},
   "outputs": [
    {
     "name": "stdin",
     "output_type": "stream",
     "text": [
      "Enter the first integer:  \n"
     ]
    },
    {
     "name": "stdout",
     "output_type": "stream",
     "text": [
      "ValueError: Please enter integers only.\n"
     ]
    }
   ],
   "source": [
    "try:\n",
    "    num1 = int(input(\"Enter the first integer: \"))\n",
    "    num2 = int(input(\"Enter the second integer: \"))\n",
    "\n",
    "    result = num1 / num2\n",
    "    print(\"Result:\", result)\n",
    "\n",
    "except ValueError:\n",
    "    print(\"ValueError: Please enter integers only.\")\n",
    "\n",
    "except ZeroDivisionError:\n",
    "    print(\"ZeroDivisionError: Cannot divide by zero.\")"
   ]
  },
  {
   "cell_type": "markdown",
   "metadata": {},
   "source": [
    "Q82.Write a Python program that prompts the user for a password and checks whether the\n",
    "password meets certain criteria (e.g., at least 8 characters, contains at least one uppercase\n",
    "letter, etc.). If the password does not meet the criteria, raise a custom exception called\n",
    "PasswordError with a custom error message."
   ]
  },
  {
   "cell_type": "code",
   "execution_count": 3,
   "metadata": {},
   "outputs": [
    {
     "name": "stdin",
     "output_type": "stream",
     "text": [
      "Enter a password:  password123\n"
     ]
    },
    {
     "name": "stdout",
     "output_type": "stream",
     "text": [
      "PasswordError: Password should contain at least one uppercase letter.\n"
     ]
    }
   ],
   "source": [
    "class PasswordError(Exception):\n",
    "    pass\n",
    "\n",
    "\n",
    "def check_password(password):\n",
    "    if len(password) < 8:\n",
    "        raise PasswordError(\"Password should have at least 8 characters.\")\n",
    "    if not any(char.isupper() for char in password):\n",
    "        raise PasswordError(\"Password should contain at least one uppercase letter.\")\n",
    "    if not any(char.isdigit() for char in password):\n",
    "        raise PasswordError(\"Password should contain at least one digit.\")\n",
    "\n",
    "\n",
    "try:\n",
    "    user_password = input(\"Enter a password: \")\n",
    "    check_password(user_password)\n",
    "    print(\"Password meets the criteria.\")\n",
    "\n",
    "except PasswordError as e:\n",
    "    print(\"PasswordError:\", str(e))\n"
   ]
  },
  {
   "cell_type": "markdown",
   "metadata": {},
   "source": [
    "Q83.Write a Python program that prompts the user for a number and calculates the square root\n",
    "of the number using the math.sqrt() function. If the number is negative, raise a ValueError with a\n",
    "custom error message."
   ]
  },
  {
   "cell_type": "code",
   "execution_count": 1,
   "metadata": {},
   "outputs": [
    {
     "name": "stdin",
     "output_type": "stream",
     "text": [
      "Enter number to calculate sqrt :  -9\n"
     ]
    },
    {
     "name": "stdout",
     "output_type": "stream",
     "text": [
      "math domain error : Square root can't be calculated for negitive number.\n"
     ]
    }
   ],
   "source": [
    "import math\n",
    "\n",
    "try:\n",
    "    num = int(input(\"Enter number to calculate sqrt : \"))\n",
    "    \n",
    "    sqrt = math.sqrt(num)\n",
    "    print(f\"Square root of {num} is {sqrt}\")\n",
    "except Exception as e:\n",
    "    print(f\"{e} : Square root can't be calculated for negitive number.\")"
   ]
  },
  {
   "cell_type": "markdown",
   "metadata": {},
   "source": [
    "Q84.Write a Python program that prompts the user for a number and calculates the square root\n",
    "of the number using the math.sqrt() function. If the number is negative, raise a ValueError with a\n",
    "custom error message."
   ]
  },
  {
   "cell_type": "code",
   "execution_count": 47,
   "metadata": {},
   "outputs": [
    {
     "name": "stdin",
     "output_type": "stream",
     "text": [
      "Enter number to calculate sqrt :  -3\n"
     ]
    },
    {
     "name": "stdout",
     "output_type": "stream",
     "text": [
      "math domain error : Square root can't be calculated for negitive number.\n"
     ]
    }
   ],
   "source": [
    "import math\n",
    "\n",
    "try:\n",
    "    num = int(input(\"Enter number to calculate sqrt : \"))\n",
    "    \n",
    "    sqrt = math.sqrt(num)\n",
    "    print(f\"Square root of {num} is {sqrt}\")\n",
    "    \n",
    "except Exception as e:\n",
    "    print(f\"{e} : Square root can't be calculated for negitive number.\")"
   ]
  },
  {
   "cell_type": "markdown",
   "metadata": {},
   "source": [
    "Q85.Write a Python program that prompts the user for a list of integers and calculates the\n",
    "average of the list. If the list is empty, raise a ValueError with a custom error message."
   ]
  },
  {
   "cell_type": "code",
   "execution_count": 9,
   "metadata": {},
   "outputs": [
    {
     "name": "stdin",
     "output_type": "stream",
     "text": [
      "Enter a list of integers (space-separated):  \n"
     ]
    },
    {
     "name": "stdout",
     "output_type": "stream",
     "text": [
      "ValueError: List is empty. Cannot calculate average.\n"
     ]
    }
   ],
   "source": [
    "def calculate_average(numbers):\n",
    "    if len(numbers) == 0:\n",
    "        raise ValueError(\"List is empty. Cannot calculate average.\")\n",
    "\n",
    "    total = sum(numbers)\n",
    "    average = total / len(numbers)\n",
    "    return average\n",
    "\n",
    "\n",
    "try:\n",
    "    user_input = input(\"Enter a list of integers (space-separated): \")\n",
    "    numbers = [int(num) for num in user_input.split()]\n",
    "\n",
    "    avg = calculate_average(numbers)\n",
    "    print(\"Average:\", avg)\n",
    "\n",
    "except ValueError as e:\n",
    "    print(\"ValueError:\", str(e))\n"
   ]
  },
  {
   "cell_type": "markdown",
   "metadata": {},
   "source": [
    "Q86.Write a function that takes a string as input and returns the number of vowels in the string.\n",
    "If the input is not a string, raise a TypeError with a custom error message."
   ]
  },
  {
   "cell_type": "code",
   "execution_count": 34,
   "metadata": {},
   "outputs": [
    {
     "name": "stdin",
     "output_type": "stream",
     "text": [
      "Enter a string:  aeiou123\n"
     ]
    },
    {
     "name": "stdout",
     "output_type": "stream",
     "text": [
      "Number of vowels: 5\n"
     ]
    }
   ],
   "source": [
    "def count_vowels(input_string):\n",
    "    z = [i for i in input_string if i.isalpha() == True]\n",
    "    if len(z) == 0 :\n",
    "        raise TypeError(\"Input should be a string.\")\n",
    "    \n",
    "    else:\n",
    "        vowels = \"aeiouAEIOU\"\n",
    "        vowel_count = 0\n",
    "\n",
    "        for char in input_string:\n",
    "            if char in vowels:\n",
    "                vowel_count += 1\n",
    "\n",
    "        return vowel_count\n",
    "\n",
    "\n",
    "try:\n",
    "    user_input = input(\"Enter a string: \")\n",
    "    vowel_count = count_vowels(user_input)\n",
    "    print(\"Number of vowels:\", vowel_count)\n",
    "\n",
    "except TypeError as e:\n",
    "    print(\"TypeError:\", str(e))\n"
   ]
  },
  {
   "cell_type": "markdown",
   "metadata": {},
   "source": [
    "Q87.write a python program how to handle simple runtime error?"
   ]
  },
  {
   "cell_type": "code",
   "execution_count": 38,
   "metadata": {},
   "outputs": [
    {
     "name": "stdout",
     "output_type": "stream",
     "text": [
      "Error: Division by zero occurred.\n"
     ]
    }
   ],
   "source": [
    "try:\n",
    "    x = 10 / 0  \n",
    "\n",
    "except ZeroDivisionError:\n",
    "    print(\"Error: Division by zero occurred.\")\n",
    "\n",
    "except RuntimeError:\n",
    "    print(\"Error: A different runtime error occurred.\")\n"
   ]
  },
  {
   "cell_type": "markdown",
   "metadata": {},
   "source": [
    "Q88.write a program how to handle multiple errors with one answer:# Program to handle\n",
    "multiple errors with one"
   ]
  },
  {
   "cell_type": "code",
   "execution_count": 42,
   "metadata": {},
   "outputs": [
    {
     "name": "stdout",
     "output_type": "stream",
     "text": [
      "Error: division by zero\n"
     ]
    }
   ],
   "source": [
    "try:\n",
    "    x = 9/0\n",
    "    y = int(\"abc\")  \n",
    "\n",
    "except (ZeroDivisionError, ValueError) as e:\n",
    "    print(\"Error:\", str(e))\n"
   ]
  },
  {
   "cell_type": "markdown",
   "metadata": {},
   "source": [
    "Q89.write a program to print the reciprocal of even numbers note:we might want to run a certain\n",
    "block of code if the code block inside try runs without any errors. For these cases, you can use\n",
    "the optional else keyword with the try statement."
   ]
  },
  {
   "cell_type": "code",
   "execution_count": 45,
   "metadata": {},
   "outputs": [
    {
     "name": "stdin",
     "output_type": "stream",
     "text": [
      "Enter a number:  h\n"
     ]
    },
    {
     "name": "stdout",
     "output_type": "stream",
     "text": [
      "Invalid input. Please enter a valid integer.\n"
     ]
    }
   ],
   "source": [
    "try:\n",
    "    number = int(input(\"Enter a number: \"))\n",
    "    reciprocal = 1 / number\n",
    "\n",
    "    if number % 2 == 0:\n",
    "        print(\"Reciprocal of\", number, \"is\", reciprocal)\n",
    "\n",
    "except ValueError:\n",
    "    print(\"Invalid input. Please enter a valid integer.\")\n",
    "\n",
    "except ZeroDivisionError:\n",
    "    print(\"Error: Division by zero.\")\n",
    "\n",
    "else:\n",
    "    print(\"No errors occurred. Reciprocal calculated successfully.\")\n"
   ]
  },
  {
   "cell_type": "markdown",
   "metadata": {},
   "source": [
    "Q90.How to handle exceptions using the try, except, and finally statements write code"
   ]
  },
  {
   "cell_type": "code",
   "execution_count": 48,
   "metadata": {},
   "outputs": [
    {
     "name": "stdout",
     "output_type": "stream",
     "text": [
      "Error!: division by zero\n",
      "Finally block will be excuted always.\n"
     ]
    }
   ],
   "source": [
    "try:\n",
    "    div = 10 / 0\n",
    "\n",
    "except ZeroDivisionError as e:\n",
    "    print(\"Error!:\", str(e))\n",
    "    \n",
    "finally:\n",
    "    print(\"Finally block will be excuted always.\")"
   ]
  },
  {
   "cell_type": "markdown",
   "metadata": {},
   "source": [
    "Q91. Write a Python program to create a MySQL database and a table."
   ]
  },
  {
   "cell_type": "markdown",
   "metadata": {},
   "source": [
    "1. creation of database"
   ]
  },
  {
   "cell_type": "code",
   "execution_count": null,
   "metadata": {},
   "outputs": [],
   "source": [
    "import mysql.connector\n",
    "\n",
    "connection = mysql.connector.connect(\n",
    "    host=\"localhost\",\n",
    "    user=\"your_username\",\n",
    "    password=\"your_password\"\n",
    ")\n",
    "\n",
    "cursor = connection.cursor()\n",
    "cursor.execute(\"CREATE DATABASE University\")\n",
    "\n",
    "print(\"Database created successfully.\")\n",
    "\n",
    "curser.close()\n",
    "connection.close()"
   ]
  },
  {
   "cell_type": "code",
   "execution_count": null,
   "metadata": {},
   "outputs": [],
   "source": [
    "2. creation of table"
   ]
  },
  {
   "cell_type": "code",
   "execution_count": null,
   "metadata": {},
   "outputs": [],
   "source": [
    "import mysql.connector\n",
    "\n",
    "connection = mysql.connector.connect(\n",
    "    host=\"localhost\",\n",
    "    user=\"your_username\",\n",
    "    password=\"your_password\",\n",
    "    database=\"University\"\n",
    ")\n",
    "\n",
    "cursor = connection.cursor()\n",
    "cursor.execute(\"CREATE TABLE Student(id int, Name varchar(20), course_id)\")\n",
    "\n",
    "print(\"Table created successfully.\")\n",
    "\n",
    "curser.close()\n",
    "connection.close()"
   ]
  },
  {
   "cell_type": "markdown",
   "metadata": {},
   "source": [
    "Q92. Write a Python program to insert data into a MySQL table."
   ]
  },
  {
   "cell_type": "code",
   "execution_count": null,
   "metadata": {},
   "outputs": [],
   "source": [
    "import mysql.connector\n",
    "\n",
    "connection = mysql.connector.connect(\n",
    "    host=\"localhost\",\n",
    "    user=\"your_username\",\n",
    "    password=\"your_password\",\n",
    "    database=\"University\"\n",
    ")\n",
    "\n",
    "cursor = connection.cursor()\n",
    "cursor.execute(\"INSERT INTO Student VALUES(123, \"Bharath\", 456)\")\n",
    "\n",
    "print(\"Data inserted successfully.\")\n",
    "\n",
    "curser.close()\n",
    "connection.close()"
   ]
  },
  {
   "cell_type": "markdown",
   "metadata": {},
   "source": [
    "Q93. Write a Python program to create an index on a MySQL table."
   ]
  },
  {
   "cell_type": "code",
   "execution_count": null,
   "metadata": {},
   "outputs": [],
   "source": [
    "import mysql.connector\n",
    "\n",
    "connection = mysql.connector.connect(\n",
    "    host=\"localhost\",\n",
    "    user=\"your_username\",\n",
    "    password=\"your_password\",\n",
    "    database=\"University\"\n",
    ")\n",
    "\n",
    "cursor = connection.cursor()\n",
    "cursor.execute(\"CREATE INDEX idx_id ON Student (Name)\")\n",
    "\n",
    "print(\"Index created successfully.\")\n",
    "\n",
    "curser.close()\n",
    "connection.close()"
   ]
  },
  {
   "cell_type": "markdown",
   "metadata": {},
   "source": [
    "Q94. Write a Python program to join two tables in MySQL."
   ]
  },
  {
   "cell_type": "code",
   "execution_count": null,
   "metadata": {},
   "outputs": [],
   "source": [
    "import mysql.connector\n",
    "\n",
    "connection = mysql.connector.connect(\n",
    "    host=\"localhost\",\n",
    "    user=\"your_username\",\n",
    "    password=\"your_password\",\n",
    "    database=\"University\"\n",
    ")\n",
    "\n",
    "cursor = connection.cursor()\n",
    "cursor.execute(\"SELECT Students.id, Students.name, students.course_id FROM Students JOIN Faculty ON Students.course_id = Faculty.course_id\")\n",
    "\n",
    "print(\"Tables Joined successfully.\")\n",
    "\n",
    "curser.close()\n",
    "connection.close()"
   ]
  },
  {
   "cell_type": "markdown",
   "metadata": {},
   "source": [
    "Q95. Write a Python program to handle MySQL errors using exception handling."
   ]
  },
  {
   "cell_type": "code",
   "execution_count": 2,
   "metadata": {},
   "outputs": [
    {
     "name": "stdout",
     "output_type": "stream",
     "text": [
      "Error!: No module named 'mysql'\n"
     ]
    }
   ],
   "source": [
    "import pymongo.errors\n",
    "import mysql.connecter\n",
    "\n",
    "try:\n",
    "    connection = mysql.connector.connect(\n",
    "    host=\"localhost\",\n",
    "    user=\"your_username\",\n",
    "    password=\"your_password\",\n",
    "    database=\"University\")\n",
    "\n",
    "except Exception as e:\n",
    "    print(\"Error!:\",str(e))\n",
    "    "
   ]
  },
  {
   "cell_type": "markdown",
   "metadata": {},
   "source": [
    "Q96. Write a Python program to connect to a MongoDB database and insert data."
   ]
  },
  {
   "cell_type": "code",
   "execution_count": null,
   "metadata": {},
   "outputs": [],
   "source": [
    "\n",
    "import pymongo\n",
    "\n",
    "uri = \"mongodb+srv://:@cluster0.rmbeuij.mongodb.net/?retryWrites=true&w=majority\"\n",
    "\n",
    "client = pymongo.MongoClient(uri)"
   ]
  },
  {
   "cell_type": "code",
   "execution_count": null,
   "metadata": {},
   "outputs": [],
   "source": [
    "client = pymongo.MongoClient(\"mongodb+srv://:@cluster0.rmbeuij.mongodb.net/?retryWrites=true&w=majority\")\n",
    "\n",
    "DataBase = client['DataBase'] \n",
    "\n",
    "collection = DataBase['Student']"
   ]
  },
  {
   "cell_type": "code",
   "execution_count": null,
   "metadata": {},
   "outputs": [],
   "source": [
    "collection.insert_one({\"name\":\"Bharath\",\"stream\":\"CSE\",\"age\":10})\n",
    "collection.insert_many([{\"key1\":'value1'},{'key2':'value2'},{'key3':'key4'}])"
   ]
  },
  {
   "cell_type": "markdown",
   "metadata": {},
   "source": [
    "Q97. Write a Python program to update data in a MongoDB database."
   ]
  },
  {
   "cell_type": "code",
   "execution_count": null,
   "metadata": {},
   "outputs": [],
   "source": [
    "client = pymongo.MongoClient(\"mongodb+srv://:@cluster0.rmbeuij.mongodb.net/?retryWrites=true&w=majority\")\n",
    "\n",
    "DataBase = client['DataBase'] \n",
    "\n",
    "collection = DataBase['Student']\n",
    "\n",
    "query = {\"name\": \"Bharath\"}\n",
    "new_data = {\"$set\": {\"id\": 22}}\n",
    "\n",
    "collection.update_one(query, new_data)\n",
    "collection.update_many({\"course_id\" : 123 },{\"$set\" : {\"corse_id\" : 456}})\n",
    "\n",
    "print(updated_doc)\n",
    "\n",
    "client.close()"
   ]
  },
  {
   "cell_type": "markdown",
   "metadata": {},
   "source": [
    "Q98. Write a Python program to handle MongoDB errors using exception handling."
   ]
  },
  {
   "cell_type": "code",
   "execution_count": null,
   "metadata": {},
   "outputs": [],
   "source": [
    "import pymongo\n",
    "\n",
    "try:\n",
    "    client = pymongo.MongoClient(\"mongodb+srv://:@cluster0.rmbeuij.mongodb.net/?retryWrites=true&w=majority\")\n",
    "\n",
    "    DataBase = client['DataBase'] \n",
    "\n",
    "    collection = DataBase['Student']\n",
    "    \n",
    "except Exception as e:\n",
    "    print(\"Error!:\",str(e))"
   ]
  },
  {
   "cell_type": "markdown",
   "metadata": {},
   "source": [
    "Q99. Write a Python program to query a MongoDB database using aggregation."
   ]
  },
  {
   "cell_type": "code",
   "execution_count": null,
   "metadata": {},
   "outputs": [],
   "source": [
    "import pymongo\n",
    "\n",
    "client = pymongo.MongoClient(\"mongodb+srv://:@cluster0.rmbeuij.mongodb.net/?retryWrites=true&w=majority\")\n",
    "\n",
    "DataBase = client['DataBase'] \n",
    "\n",
    "collection = DataBase['Student']\n",
    "\n",
    "result = collection.aggregate({\"$group\" : \"Course_id\"})\n",
    "\n",
    "for doc in result:\n",
    "    print(doc)\n",
    "    \n",
    "client.close()"
   ]
  },
  {
   "cell_type": "markdown",
   "metadata": {},
   "source": [
    "Q100. Write a Python program to perform a text search on a MongoDB database."
   ]
  },
  {
   "cell_type": "code",
   "execution_count": null,
   "metadata": {},
   "outputs": [],
   "source": [
    "import pymongo\n",
    "\n",
    "client = pymongo.MongoClient(\"mongodb+srv://:@cluster0.rmbeuij.mongodb.net/?retryWrites=true&w=majority\")\n",
    "\n",
    "DataBase = client['DataBase'] \n",
    "\n",
    "collection = DataBase['Student']\n",
    "\n",
    "result = collection.find({\"$text\" : {\"$search\" : \"Bharath\"}})\n",
    "\n",
    "for doc in result:\n",
    "    print(doc)\n",
    "    \n",
    "client.close()"
   ]
  },
  {
   "cell_type": "markdown",
   "metadata": {},
   "source": [
    "Q101. Create a Flask application that displays \"Hello, World!\" on the homepage."
   ]
  },
  {
   "cell_type": "code",
   "execution_count": null,
   "metadata": {},
   "outputs": [],
   "source": [
    "from flask import Flask\n",
    "\n",
    "app = Flask(__name__)\n",
    "\n",
    "@app.route(\"/\")\n",
    "def hello_world():\n",
    "    return 'Hello World!'\n",
    "\n",
    "if __name__==\"__main__\":\n",
    "    app.run(host=\"0.0.0.0\")"
   ]
  },
  {
   "cell_type": "markdown",
   "metadata": {},
   "source": [
    "Q102. Write a Flask route that takes a name parameter and returns \"Hello, [name]!\" as plain\n",
    "text."
   ]
  },
  {
   "cell_type": "code",
   "execution_count": null,
   "metadata": {},
   "outputs": [],
   "source": [
    "from flask import Flask\n",
    "\n",
    "app = Flask(__name__)\n",
    "\n",
    "@app.route(\"/user/<user_name>\")\n",
    "def hello_world(user_name):\n",
    "    data = f'Hello, {user_name}!'\n",
    "    return data\n",
    "\n",
    "if __name__==\"__main__\":\n",
    "    app.run(host=\"0.0.0.0\")"
   ]
  },
  {
   "cell_type": "markdown",
   "metadata": {},
   "source": [
    "Q103. Write a Flask route that takes a number parameter and returns the square of that number\n",
    "as plain\n",
    "text."
   ]
  },
  {
   "cell_type": "code",
   "execution_count": null,
   "metadata": {},
   "outputs": [],
   "source": [
    "from flask import Flask\n",
    "\n",
    "app = Flask(__name__)\n",
    "\n",
    "@app.route(\"/user/<int : user_input>\")\n",
    "def square(user_input):\n",
    "    data = f'Square of {user_input} is {user_input * user_input}'\n",
    "    return data\n",
    "\n",
    "if __name__==\"__main__\":\n",
    "    app.run(host=\"0.0.0.0\")"
   ]
  },
  {
   "cell_type": "markdown",
   "metadata": {},
   "source": [
    "Q104. Write a Flask route that displays a simple HTML form that asks for a name and returns\n",
    "\"Hello,\n",
    "[name]!\" when submitted."
   ]
  },
  {
   "cell_type": "code",
   "execution_count": null,
   "metadata": {},
   "outputs": [],
   "source": [
    "from flask import Flask, render_template\n",
    "\n",
    "app = Flask(__name__)\n",
    "\n",
    "@app.route('/')\n",
    "def index():\n",
    "    return render_template('index.html')\n",
    "\n",
    "@app.route('/submit',methods=['POST'])\n",
    "def result():\n",
    "    if request.method == 'POST':\n",
    "        name = str(request.form['name'])\n",
    "        return f\"Hello, {name}!\"\n",
    "\n",
    "if __name__ == '__main__':\n",
    "    app.run()\n"
   ]
  },
  {
   "cell_type": "markdown",
   "metadata": {},
   "source": [
    "Q105. Write a Flask route that displays a list of names in an HTML unordered list."
   ]
  },
  {
   "cell_type": "code",
   "execution_count": null,
   "metadata": {},
   "outputs": [],
   "source": [
    "from flask import Flask, render_template\n",
    "\n",
    "app = Flask(__name__)\n",
    "\n",
    "@app.route(\"/\")\n",
    "def index():\n",
    "  names = [\"John\", \"Mary\", \"Peter\", \"Jane\", \"David\"]\n",
    "  return render_template(\"index.html\", names=names)\n",
    "\n",
    "if __name__ == \"__main__\":\n",
    "  app.run()"
   ]
  },
  {
   "cell_type": "markdown",
   "metadata": {},
   "source": [
    "<!DOCTYPE html>\n",
    "<html>\n",
    "<head>\n",
    "  <title>List of Names</title>\n",
    "</head>\n",
    "<body>\n",
    "  <ul>\n",
    "    {% for name in names %}\n",
    "      <li>{{ name }}</li>\n",
    "    {% endfor %}\n",
    "  </ul>\n",
    "</body>\n",
    "</html>"
   ]
  },
  {
   "cell_type": "markdown",
   "metadata": {},
   "source": [
    "Q106. Write a Flask route that displays a list of names in a table."
   ]
  },
  {
   "cell_type": "code",
   "execution_count": null,
   "metadata": {},
   "outputs": [],
   "source": [
    "from flask import Flask, render_template\n",
    "\n",
    "app = Flask(__name__)\n",
    "\n",
    "@app.route(\"/\")\n",
    "def index():\n",
    "  names = [\"John\", \"Mary\", \"Peter\", \"Jane\", \"David\"]\n",
    "  return render_template(\"index.html\", names=names)\n",
    "\n",
    "if __name__ == \"__main__\":\n",
    "  app.run()\n"
   ]
  },
  {
   "cell_type": "markdown",
   "metadata": {},
   "source": [
    "<!DOCTYPE html>\n",
    "<html>\n",
    "<head>\n",
    "  <title>List of Names</title>\n",
    "</head>\n",
    "<body>\n",
    "  <table>\n",
    "    <thead>\n",
    "      <tr>\n",
    "        <th>Name</th>\n",
    "      </tr>\n",
    "    </thead>\n",
    "    <tbody>\n",
    "      {% for name in names %}\n",
    "        <tr>\n",
    "          <td>{{ name }}</td>\n",
    "        </tr>\n",
    "      {% endfor %}\n",
    "    </tbody>\n",
    "  </table>\n",
    "</body>\n",
    "</html>"
   ]
  },
  {
   "cell_type": "markdown",
   "metadata": {},
   "source": [
    "Q107. Write a Flask route that displays a list of names in a dropdown menu."
   ]
  },
  {
   "cell_type": "code",
   "execution_count": null,
   "metadata": {},
   "outputs": [],
   "source": [
    "from flask import Flask, render_template\n",
    "\n",
    "app = Flask(__name__)\n",
    "\n",
    "@app.route(\"/\")\n",
    "def index():\n",
    "  names = [\"John\", \"Mary\", \"Peter\", \"Jane\", \"David\"]\n",
    "  return render_template(\"index.html\", names=names)\n",
    "\n",
    "if __name__ == \"__main__\":\n",
    "  app.run()"
   ]
  },
  {
   "cell_type": "markdown",
   "metadata": {},
   "source": [
    "<!DOCTYPE html>\n",
    "<html>\n",
    "<head>\n",
    "  <title>List of Names</title>\n",
    "</head>\n",
    "<body>\n",
    "  <select name=\"name\">\n",
    "    {% for name in names %}\n",
    "      <option value=\"{{ name }}\">{{ name }}</option>\n",
    "    {% endfor %}\n",
    "  </select>\n",
    "</body>\n",
    "</html>"
   ]
  },
  {
   "cell_type": "markdown",
   "metadata": {},
   "source": [
    "Q108. Write a Flask route that receives data through a POST request and returns the data in\n",
    "JSON format."
   ]
  },
  {
   "cell_type": "code",
   "execution_count": null,
   "metadata": {},
   "outputs": [],
   "source": [
    "from flask import Flask,redirect,render_template,url_for,request,jsonify,json\n",
    "\n",
    "app = Flask(__name__)\n",
    "\n",
    "@app.route('/')\n",
    "def Home():\n",
    "    return render_template('index.html')\n",
    "\n",
    "@app.route('/submit',methods=['POST'])\n",
    "def result():\n",
    "    if request.method == 'POST':\n",
    "        maths = float(request.json['maths'])\n",
    "        physics = float(request.json['physics'])\n",
    "        chemistry = float(request.json['chemistry'])\n",
    "        biology = float(request.json['biology'])\n",
    "        english = float(request.json['english'])\n",
    "        average = (maths + physics + chemistry + biology + english)/5\n",
    "        return jsonify(average)\n",
    "\n",
    "if __name__ == \"__main__\":\n",
    "    app.run()"
   ]
  },
  {
   "cell_type": "markdown",
   "metadata": {},
   "source": [
    "Q109. Write a Flask route that redirects the user to a different URL."
   ]
  },
  {
   "cell_type": "code",
   "execution_count": null,
   "metadata": {},
   "outputs": [],
   "source": [
    "from flask import Flask,redirect,render_template,url_for,request\n",
    "\n",
    "app = Flask(__name__)\n",
    "\n",
    "@app.route('/')\n",
    "def Home():\n",
    "    return redirect(url_for(https://youtube.com))\n",
    "\n",
    "if __name__ == \"__main__\":\n",
    "    app.run()"
   ]
  }
 ],
 "metadata": {
  "kernelspec": {
   "display_name": "Python 3 (ipykernel)",
   "language": "python",
   "name": "python3"
  },
  "language_info": {
   "codemirror_mode": {
    "name": "ipython",
    "version": 3
   },
   "file_extension": ".py",
   "mimetype": "text/x-python",
   "name": "python",
   "nbconvert_exporter": "python",
   "pygments_lexer": "ipython3",
   "version": "3.10.8"
  }
 },
 "nbformat": 4,
 "nbformat_minor": 4
}
